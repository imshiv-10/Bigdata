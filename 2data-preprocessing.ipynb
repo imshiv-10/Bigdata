{
 "cells": [
  {
   "cell_type": "code",
   "execution_count": 1,
   "metadata": {},
   "outputs": [],
   "source": [
    "import numpy as np\n",
    "import pandas as pd\n",
    "import matplotlib.pyplot as plt\n",
    "import seaborn as sns"
   ]
  },
  {
   "cell_type": "code",
   "execution_count": 7,
   "metadata": {},
   "outputs": [],
   "source": [
    "# doing data analysis transformation on raw_data\n",
    "df_exhortation = pd.read_csv('./book_dataset/transformed_dataset_copy/booksUserRatings.csv')\n",
    "avg_book_rate = df_exhortation.groupby(['item_id', 'year']).agg({'rating': ['count','mean']})\n",
    "avg_book_rate.columns =['count_books','avg_book_rate']\n",
    "avg_book_rate = avg_book_rate.reset_index()\n",
    "avg_book_rate.to_csv('./book_dataset/transformed_dataset_copy/averageRate.csv', encoding='utf-8', index=False)"
   ]
  },
  {
   "cell_type": "code",
   "execution_count": null,
   "metadata": {},
   "outputs": [],
   "source": [
    "# loading bookuserratings\n",
    "df_exhortation = pd.read_csv('./book_dataset/transformed_dataset_copy/booksUserRatings.csv')"
   ]
  },
  {
   "cell_type": "code",
   "execution_count": 8,
   "metadata": {},
   "outputs": [],
   "source": [
    "# loading the csv data\n",
    "df_books = pd.read_csv('./book_dataset/transformed_dataset_copy/metadata_clean.csv')\n",
    "df_ratings = pd.read_csv('./book_dataset/transformed_dataset_copy/ratings_clean.csv')\n",
    "df_reviews = pd.read_csv('./book_dataset/transformed_dataset_copy/reviewss_clean.csv')\n",
    "df_survey = pd.read_csv('./book_dataset/transformed_dataset_copy/survey_answers_clean.csv')\n",
    "df_tagCount = pd.read_csv('./book_dataset/transformed_dataset_copy/tag_count_clean.csv')\n",
    "df_tags = pd.read_csv('./book_dataset/transformed_dataset_copy/tags_clean.csv')"
   ]
  },
  {
   "cell_type": "code",
   "execution_count": 10,
   "metadata": {},
   "outputs": [
    {
     "data": {
      "text/html": [
       "<div>\n",
       "<style scoped>\n",
       "    .dataframe tbody tr th:only-of-type {\n",
       "        vertical-align: middle;\n",
       "    }\n",
       "\n",
       "    .dataframe tbody tr th {\n",
       "        vertical-align: top;\n",
       "    }\n",
       "\n",
       "    .dataframe thead th {\n",
       "        text-align: right;\n",
       "    }\n",
       "</style>\n",
       "<table border=\"1\" class=\"dataframe\">\n",
       "  <thead>\n",
       "    <tr style=\"text-align: right;\">\n",
       "      <th></th>\n",
       "      <th>item_id</th>\n",
       "      <th>year</th>\n",
       "      <th>count_books</th>\n",
       "      <th>avg_book_rate</th>\n",
       "    </tr>\n",
       "  </thead>\n",
       "  <tbody>\n",
       "    <tr>\n",
       "      <th>0</th>\n",
       "      <td>115</td>\n",
       "      <td>2000</td>\n",
       "      <td>781</td>\n",
       "      <td>4.373880</td>\n",
       "    </tr>\n",
       "    <tr>\n",
       "      <th>1</th>\n",
       "      <td>387</td>\n",
       "      <td>2005</td>\n",
       "      <td>179</td>\n",
       "      <td>3.335196</td>\n",
       "    </tr>\n",
       "    <tr>\n",
       "      <th>2</th>\n",
       "      <td>423</td>\n",
       "      <td>2003</td>\n",
       "      <td>657</td>\n",
       "      <td>3.916286</td>\n",
       "    </tr>\n",
       "    <tr>\n",
       "      <th>3</th>\n",
       "      <td>434</td>\n",
       "      <td>2006</td>\n",
       "      <td>326</td>\n",
       "      <td>3.503067</td>\n",
       "    </tr>\n",
       "    <tr>\n",
       "      <th>4</th>\n",
       "      <td>466</td>\n",
       "      <td>1997</td>\n",
       "      <td>233</td>\n",
       "      <td>4.120172</td>\n",
       "    </tr>\n",
       "    <tr>\n",
       "      <th>...</th>\n",
       "      <td>...</td>\n",
       "      <td>...</td>\n",
       "      <td>...</td>\n",
       "      <td>...</td>\n",
       "    </tr>\n",
       "    <tr>\n",
       "      <th>9369</th>\n",
       "      <td>56707521</td>\n",
       "      <td>2017</td>\n",
       "      <td>181</td>\n",
       "      <td>3.723757</td>\n",
       "    </tr>\n",
       "    <tr>\n",
       "      <th>9370</th>\n",
       "      <td>56872973</td>\n",
       "      <td>2017</td>\n",
       "      <td>170</td>\n",
       "      <td>4.423529</td>\n",
       "    </tr>\n",
       "    <tr>\n",
       "      <th>9371</th>\n",
       "      <td>56992688</td>\n",
       "      <td>2015</td>\n",
       "      <td>315</td>\n",
       "      <td>4.234921</td>\n",
       "    </tr>\n",
       "    <tr>\n",
       "      <th>9372</th>\n",
       "      <td>57041703</td>\n",
       "      <td>2017</td>\n",
       "      <td>230</td>\n",
       "      <td>4.130435</td>\n",
       "    </tr>\n",
       "    <tr>\n",
       "      <th>9373</th>\n",
       "      <td>57044162</td>\n",
       "      <td>2017</td>\n",
       "      <td>198</td>\n",
       "      <td>4.196970</td>\n",
       "    </tr>\n",
       "  </tbody>\n",
       "</table>\n",
       "<p>9374 rows × 4 columns</p>\n",
       "</div>"
      ],
      "text/plain": [
       "       item_id  year  count_books  avg_book_rate\n",
       "0          115  2000          781       4.373880\n",
       "1          387  2005          179       3.335196\n",
       "2          423  2003          657       3.916286\n",
       "3          434  2006          326       3.503067\n",
       "4          466  1997          233       4.120172\n",
       "...        ...   ...          ...            ...\n",
       "9369  56707521  2017          181       3.723757\n",
       "9370  56872973  2017          170       4.423529\n",
       "9371  56992688  2015          315       4.234921\n",
       "9372  57041703  2017          230       4.130435\n",
       "9373  57044162  2017          198       4.196970\n",
       "\n",
       "[9374 rows x 4 columns]"
      ]
     },
     "execution_count": 10,
     "metadata": {},
     "output_type": "execute_result"
    }
   ],
   "source": [
    "averageRate = pd.read_csv('./book_dataset/transformed_dataset_copy/averageRate.csv')\n",
    "averageRate"
   ]
  },
  {
   "cell_type": "code",
   "execution_count": 11,
   "metadata": {},
   "outputs": [],
   "source": [
    "df_exhortation = pd.merge(df_exhortation, averageRate, on='item_id', how='inner')"
   ]
  },
  {
   "cell_type": "code",
   "execution_count": 13,
   "metadata": {},
   "outputs": [],
   "source": [
    "df_exhortation.to_csv('./book_dataset/transformed_dataset_copy/exhortation.csv', encoding='utf-8', index=False)"
   ]
  }
 ],
 "metadata": {
  "kernelspec": {
   "display_name": "base",
   "language": "python",
   "name": "python3"
  },
  "language_info": {
   "codemirror_mode": {
    "name": "ipython",
    "version": 3
   },
   "file_extension": ".py",
   "mimetype": "text/x-python",
   "name": "python",
   "nbconvert_exporter": "python",
   "pygments_lexer": "ipython3",
   "version": "3.9.13 | packaged by conda-forge | (main, May 27 2022, 17:00:33) \n[Clang 13.0.1 ]"
  },
  "orig_nbformat": 4,
  "vscode": {
   "interpreter": {
    "hash": "3d597f4c481aa0f25dceb95d2a0067e73c0966dcbd003d741d821a7208527ecf"
   }
  }
 },
 "nbformat": 4,
 "nbformat_minor": 2
}
