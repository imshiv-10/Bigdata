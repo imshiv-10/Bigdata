{
 "cells": [
  {
   "cell_type": "code",
   "execution_count": 1,
   "metadata": {},
   "outputs": [],
   "source": [
    "# Importing the necessary libraries\n",
    "import numpy as np ## for large arras\n",
    "import pandas as pd ## for data analysis\n",
    "import matplotlib.pyplot as plt ## for plot the visuals\n",
    "import seaborn as sns ## another type of ploating library\n",
    "import scipy.sparse # scientific computations\n",
    "from sklearn.feature_extraction.text import TfidfVectorizer\n",
    "from sklearn.metrics.pairwise import cosine_similarity\n",
    "from sklearn.preprocessing import MinMaxScaler\n",
    "from sklearn import preprocessing\n",
    "from scipy.sparse import hstack\n",
    "from sklearn.model_selection import train_test_split\n",
    "from sklearn.multiclass import OneVsRestClassifier\n",
    "from sklearn.linear_model import LogisticRegression\n",
    "from sklearn.model_selection import GridSearchCV\n",
    "from sklearn.metrics import precision_score, mean_squared_error\n",
    "from sklearn.metrics import plot_confusion_matrix\n",
    "from sklearn.tree import DecisionTreeClassifier, DecisionTreeRegressor\n",
    "from sklearn.ensemble import RandomForestClassifier\n",
    "import re\n",
    "from bs4 import BeautifulSoup\n",
    "from scipy.sparse import coo_matrix"
   ]
  },
  {
   "cell_type": "code",
   "execution_count": 2,
   "metadata": {},
   "outputs": [],
   "source": [
    "# loading the data in to data frames\n",
    "df_exhortation = pd.read_csv('./book_dataset/transformed_dataset_copy/exhortation.csv', nrows=499999)\n",
    "df_exhortation1 = pd.read_csv('./book_dataset/transformed_dataset_copy/tags_clean.csv',nrows=499999)\n",
    "df_exhortation2 = pd.read_csv('./book_dataset/transformed_dataset_copy/reviewss_clean.csv',nrows=499999)"
   ]
  },
  {
   "cell_type": "code",
   "execution_count": 4,
   "metadata": {},
   "outputs": [
    {
     "data": {
      "text/html": [
       "<div>\n",
       "<style scoped>\n",
       "    .dataframe tbody tr th:only-of-type {\n",
       "        vertical-align: middle;\n",
       "    }\n",
       "\n",
       "    .dataframe tbody tr th {\n",
       "        vertical-align: top;\n",
       "    }\n",
       "\n",
       "    .dataframe thead th {\n",
       "        text-align: right;\n",
       "    }\n",
       "</style>\n",
       "<table border=\"1\" class=\"dataframe\">\n",
       "  <thead>\n",
       "    <tr style=\"text-align: right;\">\n",
       "      <th></th>\n",
       "      <th>item_id</th>\n",
       "      <th>url</th>\n",
       "      <th>title</th>\n",
       "      <th>authors</th>\n",
       "      <th>lang</th>\n",
       "      <th>img</th>\n",
       "      <th>year_x</th>\n",
       "      <th>description</th>\n",
       "      <th>user_id</th>\n",
       "      <th>rating</th>\n",
       "      <th>year_y</th>\n",
       "      <th>count_books</th>\n",
       "      <th>avg_book_rate</th>\n",
       "    </tr>\n",
       "  </thead>\n",
       "  <tbody>\n",
       "    <tr>\n",
       "      <th>0</th>\n",
       "      <td>16827462</td>\n",
       "      <td>https://www.goodreads.com/book/show/11870085-t...</td>\n",
       "      <td>the fault in our stars</td>\n",
       "      <td>John Green</td>\n",
       "      <td>eng</td>\n",
       "      <td>https://images.gr-assets.com/books/1360206420m...</td>\n",
       "      <td>2012</td>\n",
       "      <td>There is an alternate cover edition \u0001.\\n\"I fel...</td>\n",
       "      <td>150222</td>\n",
       "      <td>5</td>\n",
       "      <td>2012</td>\n",
       "      <td>21442</td>\n",
       "      <td>4.401269</td>\n",
       "    </tr>\n",
       "    <tr>\n",
       "      <th>1</th>\n",
       "      <td>16827462</td>\n",
       "      <td>https://www.goodreads.com/book/show/11870085-t...</td>\n",
       "      <td>the fault in our stars</td>\n",
       "      <td>John Green</td>\n",
       "      <td>eng</td>\n",
       "      <td>https://images.gr-assets.com/books/1360206420m...</td>\n",
       "      <td>2012</td>\n",
       "      <td>There is an alternate cover edition \u0001.\\n\"I fel...</td>\n",
       "      <td>100165</td>\n",
       "      <td>5</td>\n",
       "      <td>2012</td>\n",
       "      <td>21442</td>\n",
       "      <td>4.401269</td>\n",
       "    </tr>\n",
       "    <tr>\n",
       "      <th>2</th>\n",
       "      <td>16827462</td>\n",
       "      <td>https://www.goodreads.com/book/show/11870085-t...</td>\n",
       "      <td>the fault in our stars</td>\n",
       "      <td>John Green</td>\n",
       "      <td>eng</td>\n",
       "      <td>https://images.gr-assets.com/books/1360206420m...</td>\n",
       "      <td>2012</td>\n",
       "      <td>There is an alternate cover edition \u0001.\\n\"I fel...</td>\n",
       "      <td>232359</td>\n",
       "      <td>4</td>\n",
       "      <td>2012</td>\n",
       "      <td>21442</td>\n",
       "      <td>4.401269</td>\n",
       "    </tr>\n",
       "    <tr>\n",
       "      <th>3</th>\n",
       "      <td>16827462</td>\n",
       "      <td>https://www.goodreads.com/book/show/11870085-t...</td>\n",
       "      <td>the fault in our stars</td>\n",
       "      <td>John Green</td>\n",
       "      <td>eng</td>\n",
       "      <td>https://images.gr-assets.com/books/1360206420m...</td>\n",
       "      <td>2012</td>\n",
       "      <td>There is an alternate cover edition \u0001.\\n\"I fel...</td>\n",
       "      <td>246427</td>\n",
       "      <td>5</td>\n",
       "      <td>2012</td>\n",
       "      <td>21442</td>\n",
       "      <td>4.401269</td>\n",
       "    </tr>\n",
       "    <tr>\n",
       "      <th>4</th>\n",
       "      <td>16827462</td>\n",
       "      <td>https://www.goodreads.com/book/show/11870085-t...</td>\n",
       "      <td>the fault in our stars</td>\n",
       "      <td>John Green</td>\n",
       "      <td>eng</td>\n",
       "      <td>https://images.gr-assets.com/books/1360206420m...</td>\n",
       "      <td>2012</td>\n",
       "      <td>There is an alternate cover edition \u0001.\\n\"I fel...</td>\n",
       "      <td>75210</td>\n",
       "      <td>4</td>\n",
       "      <td>2012</td>\n",
       "      <td>21442</td>\n",
       "      <td>4.401269</td>\n",
       "    </tr>\n",
       "  </tbody>\n",
       "</table>\n",
       "</div>"
      ],
      "text/plain": [
       "    item_id                                                url  \\\n",
       "0  16827462  https://www.goodreads.com/book/show/11870085-t...   \n",
       "1  16827462  https://www.goodreads.com/book/show/11870085-t...   \n",
       "2  16827462  https://www.goodreads.com/book/show/11870085-t...   \n",
       "3  16827462  https://www.goodreads.com/book/show/11870085-t...   \n",
       "4  16827462  https://www.goodreads.com/book/show/11870085-t...   \n",
       "\n",
       "                    title     authors lang  \\\n",
       "0  the fault in our stars  John Green  eng   \n",
       "1  the fault in our stars  John Green  eng   \n",
       "2  the fault in our stars  John Green  eng   \n",
       "3  the fault in our stars  John Green  eng   \n",
       "4  the fault in our stars  John Green  eng   \n",
       "\n",
       "                                                 img  year_x  \\\n",
       "0  https://images.gr-assets.com/books/1360206420m...    2012   \n",
       "1  https://images.gr-assets.com/books/1360206420m...    2012   \n",
       "2  https://images.gr-assets.com/books/1360206420m...    2012   \n",
       "3  https://images.gr-assets.com/books/1360206420m...    2012   \n",
       "4  https://images.gr-assets.com/books/1360206420m...    2012   \n",
       "\n",
       "                                         description  user_id  rating  year_y  \\\n",
       "0  There is an alternate cover edition \u0001.\\n\"I fel...   150222       5    2012   \n",
       "1  There is an alternate cover edition \u0001.\\n\"I fel...   100165       5    2012   \n",
       "2  There is an alternate cover edition \u0001.\\n\"I fel...   232359       4    2012   \n",
       "3  There is an alternate cover edition \u0001.\\n\"I fel...   246427       5    2012   \n",
       "4  There is an alternate cover edition \u0001.\\n\"I fel...    75210       4    2012   \n",
       "\n",
       "   count_books  avg_book_rate  \n",
       "0        21442       4.401269  \n",
       "1        21442       4.401269  \n",
       "2        21442       4.401269  \n",
       "3        21442       4.401269  \n",
       "4        21442       4.401269  "
      ]
     },
     "execution_count": 4,
     "metadata": {},
     "output_type": "execute_result"
    }
   ],
   "source": [
    "df_exhortation.head()"
   ]
  },
  {
   "cell_type": "markdown",
   "metadata": {},
   "source": [
    "### Top books rated with best avg rating"
   ]
  },
  {
   "cell_type": "code",
   "execution_count": 5,
   "metadata": {},
   "outputs": [
    {
     "name": "stdout",
     "output_type": "stream",
     "text": [
      "50% of the books are rated by 10215.0 people\n"
     ]
    }
   ],
   "source": [
    "print('50% of the books are rated by', np.percentile(df_exhortation['count_books'], 50),'people')"
   ]
  },
  {
   "attachments": {},
   "cell_type": "markdown",
   "metadata": {},
   "source": [
    "--> by considering above scenario \n",
    "**On average, 10215 people rate 50% of the books.**"
   ]
  },
  {
   "cell_type": "code",
   "execution_count": 6,
   "metadata": {},
   "outputs": [
    {
     "data": {
      "text/html": [
       "<div>\n",
       "<style scoped>\n",
       "    .dataframe tbody tr th:only-of-type {\n",
       "        vertical-align: middle;\n",
       "    }\n",
       "\n",
       "    .dataframe tbody tr th {\n",
       "        vertical-align: top;\n",
       "    }\n",
       "\n",
       "    .dataframe thead th {\n",
       "        text-align: right;\n",
       "    }\n",
       "</style>\n",
       "<table border=\"1\" class=\"dataframe\">\n",
       "  <thead>\n",
       "    <tr style=\"text-align: right;\">\n",
       "      <th></th>\n",
       "      <th>item_id</th>\n",
       "      <th>title</th>\n",
       "      <th>avg_book_rate</th>\n",
       "      <th>url</th>\n",
       "      <th>img</th>\n",
       "    </tr>\n",
       "  </thead>\n",
       "  <tbody>\n",
       "    <tr>\n",
       "      <th>472082</th>\n",
       "      <td>25126749</td>\n",
       "      <td>a court of mist and fury a court of thorns and...</td>\n",
       "      <td>4.716058</td>\n",
       "      <td>https://www.goodreads.com/book/show/17927395-a...</td>\n",
       "      <td>https://images.gr-assets.com/books/1485259138m...</td>\n",
       "    </tr>\n",
       "    <tr>\n",
       "      <th>467507</th>\n",
       "      <td>25126749</td>\n",
       "      <td>a court of mist and fury a court of thorns and...</td>\n",
       "      <td>4.716058</td>\n",
       "      <td>https://www.goodreads.com/book/show/17927395-a...</td>\n",
       "      <td>https://images.gr-assets.com/books/1485259138m...</td>\n",
       "    </tr>\n",
       "    <tr>\n",
       "      <th>467509</th>\n",
       "      <td>25126749</td>\n",
       "      <td>a court of mist and fury a court of thorns and...</td>\n",
       "      <td>4.716058</td>\n",
       "      <td>https://www.goodreads.com/book/show/17927395-a...</td>\n",
       "      <td>https://images.gr-assets.com/books/1485259138m...</td>\n",
       "    </tr>\n",
       "    <tr>\n",
       "      <th>467510</th>\n",
       "      <td>25126749</td>\n",
       "      <td>a court of mist and fury a court of thorns and...</td>\n",
       "      <td>4.716058</td>\n",
       "      <td>https://www.goodreads.com/book/show/17927395-a...</td>\n",
       "      <td>https://images.gr-assets.com/books/1485259138m...</td>\n",
       "    </tr>\n",
       "    <tr>\n",
       "      <th>467511</th>\n",
       "      <td>25126749</td>\n",
       "      <td>a court of mist and fury a court of thorns and...</td>\n",
       "      <td>4.716058</td>\n",
       "      <td>https://www.goodreads.com/book/show/17927395-a...</td>\n",
       "      <td>https://images.gr-assets.com/books/1485259138m...</td>\n",
       "    </tr>\n",
       "  </tbody>\n",
       "</table>\n",
       "</div>"
      ],
      "text/plain": [
       "         item_id                                              title  \\\n",
       "472082  25126749  a court of mist and fury a court of thorns and...   \n",
       "467507  25126749  a court of mist and fury a court of thorns and...   \n",
       "467509  25126749  a court of mist and fury a court of thorns and...   \n",
       "467510  25126749  a court of mist and fury a court of thorns and...   \n",
       "467511  25126749  a court of mist and fury a court of thorns and...   \n",
       "\n",
       "        avg_book_rate                                                url  \\\n",
       "472082       4.716058  https://www.goodreads.com/book/show/17927395-a...   \n",
       "467507       4.716058  https://www.goodreads.com/book/show/17927395-a...   \n",
       "467509       4.716058  https://www.goodreads.com/book/show/17927395-a...   \n",
       "467510       4.716058  https://www.goodreads.com/book/show/17927395-a...   \n",
       "467511       4.716058  https://www.goodreads.com/book/show/17927395-a...   \n",
       "\n",
       "                                                      img  \n",
       "472082  https://images.gr-assets.com/books/1485259138m...  \n",
       "467507  https://images.gr-assets.com/books/1485259138m...  \n",
       "467509  https://images.gr-assets.com/books/1485259138m...  \n",
       "467510  https://images.gr-assets.com/books/1485259138m...  \n",
       "467511  https://images.gr-assets.com/books/1485259138m...  "
      ]
     },
     "execution_count": 6,
     "metadata": {},
     "output_type": "execute_result"
    }
   ],
   "source": [
    "### Top rated boook are following\n",
    "def highratedBooks():\n",
    "  highratedBooks = df_exhortation[(df_exhortation['avg_book_rate']>=4.50) & (df_exhortation['count_books']>3000.0)].sort_values(by='avg_book_rate', ascending=False)\n",
    "  highratedBooks[:100].to_csv('./book_dataset/transformed_dataset_copy/highratedBooks.csv', index=False)\n",
    "  return highratedBooks[['item_id','title','avg_book_rate','url','img',]].head(5)\n",
    "highratedBooks()"
   ]
  },
  {
   "attachments": {},
   "cell_type": "markdown",
   "metadata": {},
   "source": [
    "### Similar books having same title\n",
    "1. for finding the similar books by vectorization"
   ]
  },
  {
   "cell_type": "code",
   "execution_count": 7,
   "metadata": {},
   "outputs": [],
   "source": [
    "tensor_title= TfidfVectorizer()\n",
    "similar_title_books = tensor_title.fit_transform(df_exhortation[\"title\"])"
   ]
  },
  {
   "cell_type": "code",
   "execution_count": 11,
   "metadata": {},
   "outputs": [
    {
     "data": {
      "text/html": [
       "<div>\n",
       "<style scoped>\n",
       "    .dataframe tbody tr th:only-of-type {\n",
       "        vertical-align: middle;\n",
       "    }\n",
       "\n",
       "    .dataframe tbody tr th {\n",
       "        vertical-align: top;\n",
       "    }\n",
       "\n",
       "    .dataframe thead th {\n",
       "        text-align: right;\n",
       "    }\n",
       "</style>\n",
       "<table border=\"1\" class=\"dataframe\">\n",
       "  <thead>\n",
       "    <tr style=\"text-align: right;\">\n",
       "      <th></th>\n",
       "      <th>item_id</th>\n",
       "      <th>url</th>\n",
       "      <th>title</th>\n",
       "      <th>authors</th>\n",
       "      <th>lang</th>\n",
       "      <th>img</th>\n",
       "      <th>year_x</th>\n",
       "      <th>description</th>\n",
       "      <th>user_id</th>\n",
       "      <th>rating</th>\n",
       "      <th>year_y</th>\n",
       "      <th>count_books</th>\n",
       "      <th>avg_book_rate</th>\n",
       "    </tr>\n",
       "  </thead>\n",
       "  <tbody>\n",
       "    <tr>\n",
       "      <th>173703</th>\n",
       "      <td>14345371</td>\n",
       "      <td>https://www.goodreads.com/book/show/9460487-mi...</td>\n",
       "      <td>miss peregrines home for peculiar children mis...</td>\n",
       "      <td>Ransom Riggs</td>\n",
       "      <td>en-US</td>\n",
       "      <td>https://images.gr-assets.com/books/1472782916m...</td>\n",
       "      <td>0</td>\n",
       "      <td>A mysterious island. An abandoned orphanage. A...</td>\n",
       "      <td>12677</td>\n",
       "      <td>2</td>\n",
       "      <td>0</td>\n",
       "      <td>10599</td>\n",
       "      <td>3.688744</td>\n",
       "    </tr>\n",
       "    <tr>\n",
       "      <th>173702</th>\n",
       "      <td>14345371</td>\n",
       "      <td>https://www.goodreads.com/book/show/9460487-mi...</td>\n",
       "      <td>miss peregrines home for peculiar children mis...</td>\n",
       "      <td>Ransom Riggs</td>\n",
       "      <td>en-US</td>\n",
       "      <td>https://images.gr-assets.com/books/1472782916m...</td>\n",
       "      <td>0</td>\n",
       "      <td>A mysterious island. An abandoned orphanage. A...</td>\n",
       "      <td>229349</td>\n",
       "      <td>5</td>\n",
       "      <td>0</td>\n",
       "      <td>10599</td>\n",
       "      <td>3.688744</td>\n",
       "    </tr>\n",
       "    <tr>\n",
       "      <th>173700</th>\n",
       "      <td>14345371</td>\n",
       "      <td>https://www.goodreads.com/book/show/9460487-mi...</td>\n",
       "      <td>miss peregrines home for peculiar children mis...</td>\n",
       "      <td>Ransom Riggs</td>\n",
       "      <td>en-US</td>\n",
       "      <td>https://images.gr-assets.com/books/1472782916m...</td>\n",
       "      <td>0</td>\n",
       "      <td>A mysterious island. An abandoned orphanage. A...</td>\n",
       "      <td>83697</td>\n",
       "      <td>4</td>\n",
       "      <td>0</td>\n",
       "      <td>10599</td>\n",
       "      <td>3.688744</td>\n",
       "    </tr>\n",
       "    <tr>\n",
       "      <th>173701</th>\n",
       "      <td>14345371</td>\n",
       "      <td>https://www.goodreads.com/book/show/9460487-mi...</td>\n",
       "      <td>miss peregrines home for peculiar children mis...</td>\n",
       "      <td>Ransom Riggs</td>\n",
       "      <td>en-US</td>\n",
       "      <td>https://images.gr-assets.com/books/1472782916m...</td>\n",
       "      <td>0</td>\n",
       "      <td>A mysterious island. An abandoned orphanage. A...</td>\n",
       "      <td>17301</td>\n",
       "      <td>4</td>\n",
       "      <td>0</td>\n",
       "      <td>10599</td>\n",
       "      <td>3.688744</td>\n",
       "    </tr>\n",
       "    <tr>\n",
       "      <th>173699</th>\n",
       "      <td>14345371</td>\n",
       "      <td>https://www.goodreads.com/book/show/9460487-mi...</td>\n",
       "      <td>miss peregrines home for peculiar children mis...</td>\n",
       "      <td>Ransom Riggs</td>\n",
       "      <td>en-US</td>\n",
       "      <td>https://images.gr-assets.com/books/1472782916m...</td>\n",
       "      <td>0</td>\n",
       "      <td>A mysterious island. An abandoned orphanage. A...</td>\n",
       "      <td>12675</td>\n",
       "      <td>5</td>\n",
       "      <td>0</td>\n",
       "      <td>10599</td>\n",
       "      <td>3.688744</td>\n",
       "    </tr>\n",
       "  </tbody>\n",
       "</table>\n",
       "</div>"
      ],
      "text/plain": [
       "         item_id                                                url  \\\n",
       "173703  14345371  https://www.goodreads.com/book/show/9460487-mi...   \n",
       "173702  14345371  https://www.goodreads.com/book/show/9460487-mi...   \n",
       "173700  14345371  https://www.goodreads.com/book/show/9460487-mi...   \n",
       "173701  14345371  https://www.goodreads.com/book/show/9460487-mi...   \n",
       "173699  14345371  https://www.goodreads.com/book/show/9460487-mi...   \n",
       "\n",
       "                                                    title       authors  \\\n",
       "173703  miss peregrines home for peculiar children mis...  Ransom Riggs   \n",
       "173702  miss peregrines home for peculiar children mis...  Ransom Riggs   \n",
       "173700  miss peregrines home for peculiar children mis...  Ransom Riggs   \n",
       "173701  miss peregrines home for peculiar children mis...  Ransom Riggs   \n",
       "173699  miss peregrines home for peculiar children mis...  Ransom Riggs   \n",
       "\n",
       "         lang                                                img  year_x  \\\n",
       "173703  en-US  https://images.gr-assets.com/books/1472782916m...       0   \n",
       "173702  en-US  https://images.gr-assets.com/books/1472782916m...       0   \n",
       "173700  en-US  https://images.gr-assets.com/books/1472782916m...       0   \n",
       "173701  en-US  https://images.gr-assets.com/books/1472782916m...       0   \n",
       "173699  en-US  https://images.gr-assets.com/books/1472782916m...       0   \n",
       "\n",
       "                                              description  user_id  rating  \\\n",
       "173703  A mysterious island. An abandoned orphanage. A...    12677       2   \n",
       "173702  A mysterious island. An abandoned orphanage. A...   229349       5   \n",
       "173700  A mysterious island. An abandoned orphanage. A...    83697       4   \n",
       "173701  A mysterious island. An abandoned orphanage. A...    17301       4   \n",
       "173699  A mysterious island. An abandoned orphanage. A...    12675       5   \n",
       "\n",
       "        year_y  count_books  avg_book_rate  \n",
       "173703       0        10599       3.688744  \n",
       "173702       0        10599       3.688744  \n",
       "173700       0        10599       3.688744  \n",
       "173701       0        10599       3.688744  \n",
       "173699       0        10599       3.688744  "
      ]
     },
     "execution_count": 11,
     "metadata": {},
     "output_type": "execute_result"
    }
   ],
   "source": [
    "schema = 'miss peregrines'\n",
    "continue_1 = re.sub(\"[^a-zA-Z0-9 ]\", \"\", schema.lower())\n",
    "schema_tens = tensor_title.transform([schema])\n",
    "similarity = cosine_similarity(schema_tens, similar_title_books).flatten()\n",
    "positions = np.argpartition(similarity, -50)[-50:]\n",
    "outcome = df_exhortation.iloc[positions].head(5)\n",
    "outcome"
   ]
  },
  {
   "attachments": {},
   "cell_type": "markdown",
   "metadata": {},
   "source": [
    "### Simillar books having the same other\n",
    "1. for finding the similar authour books by vectorization"
   ]
  },
  {
   "cell_type": "code",
   "execution_count": 13,
   "metadata": {},
   "outputs": [],
   "source": [
    "tensor_author = TfidfVectorizer()\n",
    "familiarAuthor = tensor_author.fit_transform(df_exhortation[\"authors\"])"
   ]
  },
  {
   "cell_type": "code",
   "execution_count": 14,
   "metadata": {},
   "outputs": [
    {
     "data": {
      "text/html": [
       "<div>\n",
       "<style scoped>\n",
       "    .dataframe tbody tr th:only-of-type {\n",
       "        vertical-align: middle;\n",
       "    }\n",
       "\n",
       "    .dataframe tbody tr th {\n",
       "        vertical-align: top;\n",
       "    }\n",
       "\n",
       "    .dataframe thead th {\n",
       "        text-align: right;\n",
       "    }\n",
       "</style>\n",
       "<table border=\"1\" class=\"dataframe\">\n",
       "  <thead>\n",
       "    <tr style=\"text-align: right;\">\n",
       "      <th></th>\n",
       "      <th>item_id</th>\n",
       "      <th>url</th>\n",
       "      <th>title</th>\n",
       "      <th>authors</th>\n",
       "      <th>lang</th>\n",
       "      <th>img</th>\n",
       "      <th>year_x</th>\n",
       "      <th>description</th>\n",
       "      <th>user_id</th>\n",
       "      <th>rating</th>\n",
       "      <th>year_y</th>\n",
       "      <th>count_books</th>\n",
       "      <th>avg_book_rate</th>\n",
       "    </tr>\n",
       "  </thead>\n",
       "  <tbody>\n",
       "    <tr>\n",
       "      <th>19423</th>\n",
       "      <td>16827462</td>\n",
       "      <td>https://www.goodreads.com/book/show/11870085-t...</td>\n",
       "      <td>the fault in our stars</td>\n",
       "      <td>John Green</td>\n",
       "      <td>eng</td>\n",
       "      <td>https://images.gr-assets.com/books/1360206420m...</td>\n",
       "      <td>2012</td>\n",
       "      <td>There is an alternate cover edition \u0001.\\n\"I fel...</td>\n",
       "      <td>20674</td>\n",
       "      <td>4</td>\n",
       "      <td>2012</td>\n",
       "      <td>21442</td>\n",
       "      <td>4.401269</td>\n",
       "    </tr>\n",
       "    <tr>\n",
       "      <th>19428</th>\n",
       "      <td>16827462</td>\n",
       "      <td>https://www.goodreads.com/book/show/11870085-t...</td>\n",
       "      <td>the fault in our stars</td>\n",
       "      <td>John Green</td>\n",
       "      <td>eng</td>\n",
       "      <td>https://images.gr-assets.com/books/1360206420m...</td>\n",
       "      <td>2012</td>\n",
       "      <td>There is an alternate cover edition \u0001.\\n\"I fel...</td>\n",
       "      <td>304848</td>\n",
       "      <td>5</td>\n",
       "      <td>2012</td>\n",
       "      <td>21442</td>\n",
       "      <td>4.401269</td>\n",
       "    </tr>\n",
       "    <tr>\n",
       "      <th>19429</th>\n",
       "      <td>16827462</td>\n",
       "      <td>https://www.goodreads.com/book/show/11870085-t...</td>\n",
       "      <td>the fault in our stars</td>\n",
       "      <td>John Green</td>\n",
       "      <td>eng</td>\n",
       "      <td>https://images.gr-assets.com/books/1360206420m...</td>\n",
       "      <td>2012</td>\n",
       "      <td>There is an alternate cover edition \u0001.\\n\"I fel...</td>\n",
       "      <td>304849</td>\n",
       "      <td>3</td>\n",
       "      <td>2012</td>\n",
       "      <td>21442</td>\n",
       "      <td>4.401269</td>\n",
       "    </tr>\n",
       "    <tr>\n",
       "      <th>19420</th>\n",
       "      <td>16827462</td>\n",
       "      <td>https://www.goodreads.com/book/show/11870085-t...</td>\n",
       "      <td>the fault in our stars</td>\n",
       "      <td>John Green</td>\n",
       "      <td>eng</td>\n",
       "      <td>https://images.gr-assets.com/books/1360206420m...</td>\n",
       "      <td>2012</td>\n",
       "      <td>There is an alternate cover edition \u0001.\\n\"I fel...</td>\n",
       "      <td>215391</td>\n",
       "      <td>5</td>\n",
       "      <td>2012</td>\n",
       "      <td>21442</td>\n",
       "      <td>4.401269</td>\n",
       "    </tr>\n",
       "    <tr>\n",
       "      <th>19419</th>\n",
       "      <td>16827462</td>\n",
       "      <td>https://www.goodreads.com/book/show/11870085-t...</td>\n",
       "      <td>the fault in our stars</td>\n",
       "      <td>John Green</td>\n",
       "      <td>eng</td>\n",
       "      <td>https://images.gr-assets.com/books/1360206420m...</td>\n",
       "      <td>2012</td>\n",
       "      <td>There is an alternate cover edition \u0001.\\n\"I fel...</td>\n",
       "      <td>304844</td>\n",
       "      <td>5</td>\n",
       "      <td>2012</td>\n",
       "      <td>21442</td>\n",
       "      <td>4.401269</td>\n",
       "    </tr>\n",
       "  </tbody>\n",
       "</table>\n",
       "</div>"
      ],
      "text/plain": [
       "        item_id                                                url  \\\n",
       "19423  16827462  https://www.goodreads.com/book/show/11870085-t...   \n",
       "19428  16827462  https://www.goodreads.com/book/show/11870085-t...   \n",
       "19429  16827462  https://www.goodreads.com/book/show/11870085-t...   \n",
       "19420  16827462  https://www.goodreads.com/book/show/11870085-t...   \n",
       "19419  16827462  https://www.goodreads.com/book/show/11870085-t...   \n",
       "\n",
       "                        title     authors lang  \\\n",
       "19423  the fault in our stars  John Green  eng   \n",
       "19428  the fault in our stars  John Green  eng   \n",
       "19429  the fault in our stars  John Green  eng   \n",
       "19420  the fault in our stars  John Green  eng   \n",
       "19419  the fault in our stars  John Green  eng   \n",
       "\n",
       "                                                     img  year_x  \\\n",
       "19423  https://images.gr-assets.com/books/1360206420m...    2012   \n",
       "19428  https://images.gr-assets.com/books/1360206420m...    2012   \n",
       "19429  https://images.gr-assets.com/books/1360206420m...    2012   \n",
       "19420  https://images.gr-assets.com/books/1360206420m...    2012   \n",
       "19419  https://images.gr-assets.com/books/1360206420m...    2012   \n",
       "\n",
       "                                             description  user_id  rating  \\\n",
       "19423  There is an alternate cover edition \u0001.\\n\"I fel...    20674       4   \n",
       "19428  There is an alternate cover edition \u0001.\\n\"I fel...   304848       5   \n",
       "19429  There is an alternate cover edition \u0001.\\n\"I fel...   304849       3   \n",
       "19420  There is an alternate cover edition \u0001.\\n\"I fel...   215391       5   \n",
       "19419  There is an alternate cover edition \u0001.\\n\"I fel...   304844       5   \n",
       "\n",
       "       year_y  count_books  avg_book_rate  \n",
       "19423    2012        21442       4.401269  \n",
       "19428    2012        21442       4.401269  \n",
       "19429    2012        21442       4.401269  \n",
       "19420    2012        21442       4.401269  \n",
       "19419    2012        21442       4.401269  "
      ]
     },
     "execution_count": 14,
     "metadata": {},
     "output_type": "execute_result"
    }
   ],
   "source": [
    "schema = 'green'\n",
    "continue_1 = re.sub(\"[^a-zA-Z0-9 ]\", \"\", schema.lower())\n",
    "schema_tens = tensor_author.transform([schema])\n",
    "similarity = cosine_similarity(schema_tens, familiarAuthor).flatten()\n",
    "positions = np.argpartition(similarity, -50)[-50:]\n",
    "outcome = df_exhortation.iloc[positions].head(5)\n",
    "outcome"
   ]
  },
  {
   "attachments": {},
   "cell_type": "markdown",
   "metadata": {},
   "source": [
    "## Content Based Filtering"
   ]
  },
  {
   "attachments": {},
   "cell_type": "markdown",
   "metadata": {},
   "source": [
    "### *Tf-idfe*"
   ]
  },
  {
   "cell_type": "code",
   "execution_count": 15,
   "metadata": {},
   "outputs": [
    {
     "data": {
      "text/plain": [
       "(727, 101)"
      ]
     },
     "execution_count": 15,
     "metadata": {},
     "output_type": "execute_result"
    }
   ],
   "source": [
    "#Tf-idf\n",
    "tensor_title = TfidfVectorizer(max_df= 659408, min_df= 100,  stop_words='english')\n",
    "tensor_title.fit(df_exhortation[\"title\"])\n",
    "tfidf_title = tensor_title.transform(df_exhortation1['tag'])\n",
    "tfidf_title.shape"
   ]
  },
  {
   "cell_type": "code",
   "execution_count": 16,
   "metadata": {},
   "outputs": [
    {
     "data": {
      "text/plain": [
       "(499999, 4259)"
      ]
     },
     "execution_count": 16,
     "metadata": {},
     "output_type": "execute_result"
    }
   ],
   "source": [
    "tensor_review = TfidfVectorizer(max_df= 659408, min_df= 500, stop_words='english')\n",
    "tensor_review.fit(df_exhortation2[\"txt\"].values.astype('U'))\n",
    "tfidf_review = tensor_review.transform(df_exhortation2['txt'].values.astype('U'))\n",
    "tfidf_review.shape"
   ]
  },
  {
   "cell_type": "code",
   "execution_count": 17,
   "metadata": {},
   "outputs": [],
   "source": [
    "#Label Encoding categorical features\n",
    "labelencoder1 = preprocessing.LabelEncoder()\n",
    "labelencoder1.fit(df_exhortation['item_id'])\n",
    "df_exhortation['item_id_mapped'] = labelencoder1.transform(df_exhortation['item_id'])\n",
    "labelencoder2 = preprocessing.LabelEncoder()\n",
    "labelencoder2.fit(df_exhortation['authors'])\n",
    "df_exhortation['authors_mapped'] = labelencoder2.transform(df_exhortation['authors'])\n",
    "labelencoder3 = preprocessing.LabelEncoder()\n",
    "labelencoder3.fit(df_exhortation['user_id'])\n",
    "df_exhortation['user_id_mapped'] = labelencoder3.transform(df_exhortation['user_id'])"
   ]
  },
  {
   "cell_type": "code",
   "execution_count": 18,
   "metadata": {},
   "outputs": [],
   "source": [
    "df_exhortation.to_csv('./df_book_users.csv', index=False)"
   ]
  },
  {
   "cell_type": "code",
   "execution_count": 19,
   "metadata": {},
   "outputs": [],
   "source": [
    "tensorsUserBooks = df_exhortation[['item_id_mapped', 'authors_mapped',  'user_id_mapped', 'year_x', 'count_books', 'avg_book_rate',  'rating']]"
   ]
  },
  {
   "cell_type": "code",
   "execution_count": 20,
   "metadata": {},
   "outputs": [
    {
     "data": {
      "text/html": [
       "<div>\n",
       "<style scoped>\n",
       "    .dataframe tbody tr th:only-of-type {\n",
       "        vertical-align: middle;\n",
       "    }\n",
       "\n",
       "    .dataframe tbody tr th {\n",
       "        vertical-align: top;\n",
       "    }\n",
       "\n",
       "    .dataframe thead th {\n",
       "        text-align: right;\n",
       "    }\n",
       "</style>\n",
       "<table border=\"1\" class=\"dataframe\">\n",
       "  <thead>\n",
       "    <tr style=\"text-align: right;\">\n",
       "      <th></th>\n",
       "      <th>item_id_mapped</th>\n",
       "      <th>authors_mapped</th>\n",
       "      <th>user_id_mapped</th>\n",
       "      <th>year_x</th>\n",
       "      <th>count_books</th>\n",
       "      <th>avg_book_rate</th>\n",
       "      <th>rating</th>\n",
       "    </tr>\n",
       "  </thead>\n",
       "  <tbody>\n",
       "    <tr>\n",
       "      <th>0</th>\n",
       "      <td>39</td>\n",
       "      <td>19</td>\n",
       "      <td>96102</td>\n",
       "      <td>2012</td>\n",
       "      <td>21442</td>\n",
       "      <td>4.401269</td>\n",
       "      <td>5</td>\n",
       "    </tr>\n",
       "    <tr>\n",
       "      <th>1</th>\n",
       "      <td>39</td>\n",
       "      <td>19</td>\n",
       "      <td>70918</td>\n",
       "      <td>2012</td>\n",
       "      <td>21442</td>\n",
       "      <td>4.401269</td>\n",
       "      <td>5</td>\n",
       "    </tr>\n",
       "    <tr>\n",
       "      <th>2</th>\n",
       "      <td>39</td>\n",
       "      <td>19</td>\n",
       "      <td>132828</td>\n",
       "      <td>2012</td>\n",
       "      <td>21442</td>\n",
       "      <td>4.401269</td>\n",
       "      <td>4</td>\n",
       "    </tr>\n",
       "    <tr>\n",
       "      <th>3</th>\n",
       "      <td>39</td>\n",
       "      <td>19</td>\n",
       "      <td>137517</td>\n",
       "      <td>2012</td>\n",
       "      <td>21442</td>\n",
       "      <td>4.401269</td>\n",
       "      <td>5</td>\n",
       "    </tr>\n",
       "    <tr>\n",
       "      <th>4</th>\n",
       "      <td>39</td>\n",
       "      <td>19</td>\n",
       "      <td>55298</td>\n",
       "      <td>2012</td>\n",
       "      <td>21442</td>\n",
       "      <td>4.401269</td>\n",
       "      <td>4</td>\n",
       "    </tr>\n",
       "    <tr>\n",
       "      <th>...</th>\n",
       "      <td>...</td>\n",
       "      <td>...</td>\n",
       "      <td>...</td>\n",
       "      <td>...</td>\n",
       "      <td>...</td>\n",
       "      <td>...</td>\n",
       "      <td>...</td>\n",
       "    </tr>\n",
       "    <tr>\n",
       "      <th>499994</th>\n",
       "      <td>26</td>\n",
       "      <td>38</td>\n",
       "      <td>14901</td>\n",
       "      <td>2010</td>\n",
       "      <td>6638</td>\n",
       "      <td>4.239681</td>\n",
       "      <td>5</td>\n",
       "    </tr>\n",
       "    <tr>\n",
       "      <th>499995</th>\n",
       "      <td>26</td>\n",
       "      <td>38</td>\n",
       "      <td>106671</td>\n",
       "      <td>2010</td>\n",
       "      <td>6638</td>\n",
       "      <td>4.239681</td>\n",
       "      <td>5</td>\n",
       "    </tr>\n",
       "    <tr>\n",
       "      <th>499996</th>\n",
       "      <td>26</td>\n",
       "      <td>38</td>\n",
       "      <td>97753</td>\n",
       "      <td>2010</td>\n",
       "      <td>6638</td>\n",
       "      <td>4.239681</td>\n",
       "      <td>4</td>\n",
       "    </tr>\n",
       "    <tr>\n",
       "      <th>499997</th>\n",
       "      <td>26</td>\n",
       "      <td>38</td>\n",
       "      <td>42178</td>\n",
       "      <td>2010</td>\n",
       "      <td>6638</td>\n",
       "      <td>4.239681</td>\n",
       "      <td>5</td>\n",
       "    </tr>\n",
       "    <tr>\n",
       "      <th>499998</th>\n",
       "      <td>26</td>\n",
       "      <td>38</td>\n",
       "      <td>146992</td>\n",
       "      <td>2010</td>\n",
       "      <td>6638</td>\n",
       "      <td>4.239681</td>\n",
       "      <td>4</td>\n",
       "    </tr>\n",
       "  </tbody>\n",
       "</table>\n",
       "<p>499999 rows × 7 columns</p>\n",
       "</div>"
      ],
      "text/plain": [
       "        item_id_mapped  authors_mapped  user_id_mapped  year_x  count_books  \\\n",
       "0                   39              19           96102    2012        21442   \n",
       "1                   39              19           70918    2012        21442   \n",
       "2                   39              19          132828    2012        21442   \n",
       "3                   39              19          137517    2012        21442   \n",
       "4                   39              19           55298    2012        21442   \n",
       "...                ...             ...             ...     ...          ...   \n",
       "499994              26              38           14901    2010         6638   \n",
       "499995              26              38          106671    2010         6638   \n",
       "499996              26              38           97753    2010         6638   \n",
       "499997              26              38           42178    2010         6638   \n",
       "499998              26              38          146992    2010         6638   \n",
       "\n",
       "        avg_book_rate  rating  \n",
       "0            4.401269       5  \n",
       "1            4.401269       5  \n",
       "2            4.401269       4  \n",
       "3            4.401269       5  \n",
       "4            4.401269       4  \n",
       "...               ...     ...  \n",
       "499994       4.239681       5  \n",
       "499995       4.239681       5  \n",
       "499996       4.239681       4  \n",
       "499997       4.239681       5  \n",
       "499998       4.239681       4  \n",
       "\n",
       "[499999 rows x 7 columns]"
      ]
     },
     "execution_count": 20,
     "metadata": {},
     "output_type": "execute_result"
    }
   ],
   "source": [
    "tensorsUserBooks"
   ]
  },
  {
   "cell_type": "code",
   "execution_count": 21,
   "metadata": {},
   "outputs": [
    {
     "data": {
      "text/plain": [
       "array([[0.72222222, 0.44186047, 0.57016571, 0.99801587, 1.        ,\n",
       "        0.83732044],\n",
       "       [0.72222222, 0.44186047, 0.42075099, 0.99801587, 1.        ,\n",
       "        0.83732044],\n",
       "       [0.72222222, 0.44186047, 0.78805821, 0.99801587, 1.        ,\n",
       "        0.83732044],\n",
       "       ...,\n",
       "       [0.48148148, 0.88372093, 0.57996096, 0.99702381, 0.09004856,\n",
       "        0.75381378],\n",
       "       [0.48148148, 0.88372093, 0.2502388 , 0.99702381, 0.09004856,\n",
       "        0.75381378],\n",
       "       [0.48148148, 0.88372093, 0.87209213, 0.99702381, 0.09004856,\n",
       "        0.75381378]])"
      ]
     },
     "execution_count": 21,
     "metadata": {},
     "output_type": "execute_result"
    }
   ],
   "source": [
    "input = tensorsUserBooks.drop(columns=['rating'])\n",
    "output = tensorsUserBooks['rating']\n",
    "#Normalizing the data\n",
    "norm = MinMaxScaler()\n",
    "norm.fit(input)\n",
    "x_normalized = norm.transform(input)\n",
    "x_normalized"
   ]
  },
  {
   "cell_type": "code",
   "execution_count": 22,
   "metadata": {},
   "outputs": [],
   "source": [
    "hstack_tensor = hstack((x_normalized, tfidf_review))"
   ]
  },
  {
   "cell_type": "code",
   "execution_count": 23,
   "metadata": {},
   "outputs": [
    {
     "data": {
      "text/plain": [
       "<499999x4265 sparse matrix of type '<class 'numpy.float64'>'\n",
       "\twith 15219128 stored elements in COOrdinate format>"
      ]
     },
     "execution_count": 23,
     "metadata": {},
     "output_type": "execute_result"
    }
   ],
   "source": [
    "hstack_tensor"
   ]
  },
  {
   "cell_type": "code",
   "execution_count": 24,
   "metadata": {},
   "outputs": [],
   "source": [
    "scipy.sparse.save_npz('./hstack_tensor.npz', hstack_tensor)"
   ]
  },
  {
   "cell_type": "code",
   "execution_count": 25,
   "metadata": {},
   "outputs": [],
   "source": [
    "hstack_tensor = scipy.sparse.load_npz('./hstack_tensor.npz')"
   ]
  },
  {
   "cell_type": "code",
   "execution_count": 26,
   "metadata": {},
   "outputs": [],
   "source": [
    "X_train, X_test, y_train, y_test = train_test_split(hstack_tensor, output, test_size=0.30, random_state=42)"
   ]
  },
  {
   "cell_type": "code",
   "execution_count": 28,
   "metadata": {},
   "outputs": [
    {
     "name": "stdout",
     "output_type": "stream",
     "text": [
      "Fitting 2 folds for each of 4 candidates, totalling 8 fits\n",
      "[CV] END estimator__class_weight=None, estimator__penalty=l1; total time=   0.4s\n",
      "[CV] END estimator__class_weight=None, estimator__penalty=l1; total time=   0.4s\n",
      "[CV] END estimator__class_weight=balanced, estimator__penalty=l1; total time=   0.4s\n",
      "[CV] END estimator__class_weight=balanced, estimator__penalty=l1; total time=   0.4s\n"
     ]
    },
    {
     "name": "stderr",
     "output_type": "stream",
     "text": [
      "/opt/anaconda3/lib/python3.9/site-packages/sklearn/linear_model/_logistic.py:444: ConvergenceWarning: lbfgs failed to converge (status=1):\n",
      "STOP: TOTAL NO. of ITERATIONS REACHED LIMIT.\n",
      "\n",
      "Increase the number of iterations (max_iter) or scale the data as shown in:\n",
      "    https://scikit-learn.org/stable/modules/preprocessing.html\n",
      "Please also refer to the documentation for alternative solver options:\n",
      "    https://scikit-learn.org/stable/modules/linear_model.html#logistic-regression\n",
      "  n_iter_i = _check_optimize_result(\n",
      "/opt/anaconda3/lib/python3.9/site-packages/sklearn/linear_model/_logistic.py:444: ConvergenceWarning: lbfgs failed to converge (status=1):\n",
      "STOP: TOTAL NO. of ITERATIONS REACHED LIMIT.\n",
      "\n",
      "Increase the number of iterations (max_iter) or scale the data as shown in:\n",
      "    https://scikit-learn.org/stable/modules/preprocessing.html\n",
      "Please also refer to the documentation for alternative solver options:\n",
      "    https://scikit-learn.org/stable/modules/linear_model.html#logistic-regression\n",
      "  n_iter_i = _check_optimize_result(\n",
      "/opt/anaconda3/lib/python3.9/site-packages/sklearn/linear_model/_logistic.py:444: ConvergenceWarning: lbfgs failed to converge (status=1):\n",
      "STOP: TOTAL NO. of ITERATIONS REACHED LIMIT.\n",
      "\n",
      "Increase the number of iterations (max_iter) or scale the data as shown in:\n",
      "    https://scikit-learn.org/stable/modules/preprocessing.html\n",
      "Please also refer to the documentation for alternative solver options:\n",
      "    https://scikit-learn.org/stable/modules/linear_model.html#logistic-regression\n",
      "  n_iter_i = _check_optimize_result(\n",
      "/opt/anaconda3/lib/python3.9/site-packages/sklearn/linear_model/_logistic.py:444: ConvergenceWarning: lbfgs failed to converge (status=1):\n",
      "STOP: TOTAL NO. of ITERATIONS REACHED LIMIT.\n",
      "\n",
      "Increase the number of iterations (max_iter) or scale the data as shown in:\n",
      "    https://scikit-learn.org/stable/modules/preprocessing.html\n",
      "Please also refer to the documentation for alternative solver options:\n",
      "    https://scikit-learn.org/stable/modules/linear_model.html#logistic-regression\n",
      "  n_iter_i = _check_optimize_result(\n",
      "/opt/anaconda3/lib/python3.9/site-packages/sklearn/linear_model/_logistic.py:444: ConvergenceWarning: lbfgs failed to converge (status=1):\n",
      "STOP: TOTAL NO. of ITERATIONS REACHED LIMIT.\n",
      "\n",
      "Increase the number of iterations (max_iter) or scale the data as shown in:\n",
      "    https://scikit-learn.org/stable/modules/preprocessing.html\n",
      "Please also refer to the documentation for alternative solver options:\n",
      "    https://scikit-learn.org/stable/modules/linear_model.html#logistic-regression\n",
      "  n_iter_i = _check_optimize_result(\n",
      "/opt/anaconda3/lib/python3.9/site-packages/sklearn/linear_model/_logistic.py:444: ConvergenceWarning: lbfgs failed to converge (status=1):\n",
      "STOP: TOTAL NO. of ITERATIONS REACHED LIMIT.\n",
      "\n",
      "Increase the number of iterations (max_iter) or scale the data as shown in:\n",
      "    https://scikit-learn.org/stable/modules/preprocessing.html\n",
      "Please also refer to the documentation for alternative solver options:\n",
      "    https://scikit-learn.org/stable/modules/linear_model.html#logistic-regression\n",
      "  n_iter_i = _check_optimize_result(\n",
      "/opt/anaconda3/lib/python3.9/site-packages/sklearn/linear_model/_logistic.py:444: ConvergenceWarning: lbfgs failed to converge (status=1):\n",
      "STOP: TOTAL NO. of ITERATIONS REACHED LIMIT.\n",
      "\n",
      "Increase the number of iterations (max_iter) or scale the data as shown in:\n",
      "    https://scikit-learn.org/stable/modules/preprocessing.html\n",
      "Please also refer to the documentation for alternative solver options:\n",
      "    https://scikit-learn.org/stable/modules/linear_model.html#logistic-regression\n",
      "  n_iter_i = _check_optimize_result(\n",
      "/opt/anaconda3/lib/python3.9/site-packages/sklearn/linear_model/_logistic.py:444: ConvergenceWarning: lbfgs failed to converge (status=1):\n",
      "STOP: TOTAL NO. of ITERATIONS REACHED LIMIT.\n",
      "\n",
      "Increase the number of iterations (max_iter) or scale the data as shown in:\n",
      "    https://scikit-learn.org/stable/modules/preprocessing.html\n",
      "Please also refer to the documentation for alternative solver options:\n",
      "    https://scikit-learn.org/stable/modules/linear_model.html#logistic-regression\n",
      "  n_iter_i = _check_optimize_result(\n",
      "/opt/anaconda3/lib/python3.9/site-packages/sklearn/linear_model/_logistic.py:444: ConvergenceWarning: lbfgs failed to converge (status=1):\n",
      "STOP: TOTAL NO. of ITERATIONS REACHED LIMIT.\n",
      "\n",
      "Increase the number of iterations (max_iter) or scale the data as shown in:\n",
      "    https://scikit-learn.org/stable/modules/preprocessing.html\n",
      "Please also refer to the documentation for alternative solver options:\n",
      "    https://scikit-learn.org/stable/modules/linear_model.html#logistic-regression\n",
      "  n_iter_i = _check_optimize_result(\n",
      "/opt/anaconda3/lib/python3.9/site-packages/sklearn/linear_model/_logistic.py:444: ConvergenceWarning: lbfgs failed to converge (status=1):\n",
      "STOP: TOTAL NO. of ITERATIONS REACHED LIMIT.\n",
      "\n",
      "Increase the number of iterations (max_iter) or scale the data as shown in:\n",
      "    https://scikit-learn.org/stable/modules/preprocessing.html\n",
      "Please also refer to the documentation for alternative solver options:\n",
      "    https://scikit-learn.org/stable/modules/linear_model.html#logistic-regression\n",
      "  n_iter_i = _check_optimize_result(\n",
      "/opt/anaconda3/lib/python3.9/site-packages/sklearn/linear_model/_logistic.py:444: ConvergenceWarning: lbfgs failed to converge (status=1):\n",
      "STOP: TOTAL NO. of ITERATIONS REACHED LIMIT.\n",
      "\n",
      "Increase the number of iterations (max_iter) or scale the data as shown in:\n",
      "    https://scikit-learn.org/stable/modules/preprocessing.html\n",
      "Please also refer to the documentation for alternative solver options:\n",
      "    https://scikit-learn.org/stable/modules/linear_model.html#logistic-regression\n",
      "  n_iter_i = _check_optimize_result(\n",
      "/opt/anaconda3/lib/python3.9/site-packages/sklearn/linear_model/_logistic.py:444: ConvergenceWarning: lbfgs failed to converge (status=1):\n",
      "STOP: TOTAL NO. of ITERATIONS REACHED LIMIT.\n",
      "\n",
      "Increase the number of iterations (max_iter) or scale the data as shown in:\n",
      "    https://scikit-learn.org/stable/modules/preprocessing.html\n",
      "Please also refer to the documentation for alternative solver options:\n",
      "    https://scikit-learn.org/stable/modules/linear_model.html#logistic-regression\n",
      "  n_iter_i = _check_optimize_result(\n",
      "/opt/anaconda3/lib/python3.9/site-packages/sklearn/linear_model/_logistic.py:444: ConvergenceWarning: lbfgs failed to converge (status=1):\n",
      "STOP: TOTAL NO. of ITERATIONS REACHED LIMIT.\n",
      "\n",
      "Increase the number of iterations (max_iter) or scale the data as shown in:\n",
      "    https://scikit-learn.org/stable/modules/preprocessing.html\n",
      "Please also refer to the documentation for alternative solver options:\n",
      "    https://scikit-learn.org/stable/modules/linear_model.html#logistic-regression\n",
      "  n_iter_i = _check_optimize_result(\n",
      "/opt/anaconda3/lib/python3.9/site-packages/sklearn/linear_model/_logistic.py:444: ConvergenceWarning: lbfgs failed to converge (status=1):\n",
      "STOP: TOTAL NO. of ITERATIONS REACHED LIMIT.\n",
      "\n",
      "Increase the number of iterations (max_iter) or scale the data as shown in:\n",
      "    https://scikit-learn.org/stable/modules/preprocessing.html\n",
      "Please also refer to the documentation for alternative solver options:\n",
      "    https://scikit-learn.org/stable/modules/linear_model.html#logistic-regression\n",
      "  n_iter_i = _check_optimize_result(\n",
      "/opt/anaconda3/lib/python3.9/site-packages/sklearn/linear_model/_logistic.py:444: ConvergenceWarning: lbfgs failed to converge (status=1):\n",
      "STOP: TOTAL NO. of ITERATIONS REACHED LIMIT.\n",
      "\n",
      "Increase the number of iterations (max_iter) or scale the data as shown in:\n",
      "    https://scikit-learn.org/stable/modules/preprocessing.html\n",
      "Please also refer to the documentation for alternative solver options:\n",
      "    https://scikit-learn.org/stable/modules/linear_model.html#logistic-regression\n",
      "  n_iter_i = _check_optimize_result(\n",
      "/opt/anaconda3/lib/python3.9/site-packages/sklearn/linear_model/_logistic.py:444: ConvergenceWarning: lbfgs failed to converge (status=1):\n",
      "STOP: TOTAL NO. of ITERATIONS REACHED LIMIT.\n",
      "\n",
      "Increase the number of iterations (max_iter) or scale the data as shown in:\n",
      "    https://scikit-learn.org/stable/modules/preprocessing.html\n",
      "Please also refer to the documentation for alternative solver options:\n",
      "    https://scikit-learn.org/stable/modules/linear_model.html#logistic-regression\n",
      "  n_iter_i = _check_optimize_result(\n",
      "/opt/anaconda3/lib/python3.9/site-packages/sklearn/linear_model/_logistic.py:444: ConvergenceWarning: lbfgs failed to converge (status=1):\n",
      "STOP: TOTAL NO. of ITERATIONS REACHED LIMIT.\n",
      "\n",
      "Increase the number of iterations (max_iter) or scale the data as shown in:\n",
      "    https://scikit-learn.org/stable/modules/preprocessing.html\n",
      "Please also refer to the documentation for alternative solver options:\n",
      "    https://scikit-learn.org/stable/modules/linear_model.html#logistic-regression\n",
      "  n_iter_i = _check_optimize_result(\n"
     ]
    },
    {
     "name": "stdout",
     "output_type": "stream",
     "text": [
      "[CV] END estimator__class_weight=None, estimator__penalty=l2; total time=   8.9s\n"
     ]
    },
    {
     "name": "stderr",
     "output_type": "stream",
     "text": [
      "/opt/anaconda3/lib/python3.9/site-packages/sklearn/linear_model/_logistic.py:444: ConvergenceWarning: lbfgs failed to converge (status=1):\n",
      "STOP: TOTAL NO. of ITERATIONS REACHED LIMIT.\n",
      "\n",
      "Increase the number of iterations (max_iter) or scale the data as shown in:\n",
      "    https://scikit-learn.org/stable/modules/preprocessing.html\n",
      "Please also refer to the documentation for alternative solver options:\n",
      "    https://scikit-learn.org/stable/modules/linear_model.html#logistic-regression\n",
      "  n_iter_i = _check_optimize_result(\n"
     ]
    },
    {
     "name": "stdout",
     "output_type": "stream",
     "text": [
      "[CV] END estimator__class_weight=None, estimator__penalty=l2; total time=   9.4s\n"
     ]
    },
    {
     "name": "stderr",
     "output_type": "stream",
     "text": [
      "/opt/anaconda3/lib/python3.9/site-packages/sklearn/linear_model/_logistic.py:444: ConvergenceWarning: lbfgs failed to converge (status=1):\n",
      "STOP: TOTAL NO. of ITERATIONS REACHED LIMIT.\n",
      "\n",
      "Increase the number of iterations (max_iter) or scale the data as shown in:\n",
      "    https://scikit-learn.org/stable/modules/preprocessing.html\n",
      "Please also refer to the documentation for alternative solver options:\n",
      "    https://scikit-learn.org/stable/modules/linear_model.html#logistic-regression\n",
      "  n_iter_i = _check_optimize_result(\n",
      "/opt/anaconda3/lib/python3.9/site-packages/sklearn/linear_model/_logistic.py:444: ConvergenceWarning: lbfgs failed to converge (status=1):\n",
      "STOP: TOTAL NO. of ITERATIONS REACHED LIMIT.\n",
      "\n",
      "Increase the number of iterations (max_iter) or scale the data as shown in:\n",
      "    https://scikit-learn.org/stable/modules/preprocessing.html\n",
      "Please also refer to the documentation for alternative solver options:\n",
      "    https://scikit-learn.org/stable/modules/linear_model.html#logistic-regression\n",
      "  n_iter_i = _check_optimize_result(\n",
      "/opt/anaconda3/lib/python3.9/site-packages/sklearn/model_selection/_validation.py:378: FitFailedWarning: \n",
      "4 fits failed out of a total of 8.\n",
      "The score on these train-test partitions for these parameters will be set to nan.\n",
      "If these failures are not expected, you can try to debug them by setting error_score='raise'.\n",
      "\n",
      "Below are more details about the failures:\n",
      "--------------------------------------------------------------------------------\n",
      "4 fits failed with the following error:\n",
      "Traceback (most recent call last):\n",
      "  File \"/opt/anaconda3/lib/python3.9/site-packages/sklearn/model_selection/_validation.py\", line 686, in _fit_and_score\n",
      "    estimator.fit(X_train, y_train, **fit_params)\n",
      "  File \"/opt/anaconda3/lib/python3.9/site-packages/sklearn/multiclass.py\", line 327, in fit\n",
      "    self.estimators_ = Parallel(n_jobs=self.n_jobs, verbose=self.verbose)(\n",
      "  File \"/opt/anaconda3/lib/python3.9/site-packages/joblib/parallel.py\", line 1043, in __call__\n",
      "    if self.dispatch_one_batch(iterator):\n",
      "  File \"/opt/anaconda3/lib/python3.9/site-packages/joblib/parallel.py\", line 861, in dispatch_one_batch\n",
      "    self._dispatch(tasks)\n",
      "  File \"/opt/anaconda3/lib/python3.9/site-packages/joblib/parallel.py\", line 779, in _dispatch\n",
      "    job = self._backend.apply_async(batch, callback=cb)\n",
      "  File \"/opt/anaconda3/lib/python3.9/site-packages/joblib/_parallel_backends.py\", line 208, in apply_async\n",
      "    result = ImmediateResult(func)\n",
      "  File \"/opt/anaconda3/lib/python3.9/site-packages/joblib/_parallel_backends.py\", line 572, in __init__\n",
      "    self.results = batch()\n",
      "  File \"/opt/anaconda3/lib/python3.9/site-packages/joblib/parallel.py\", line 262, in __call__\n",
      "    return [func(*args, **kwargs)\n",
      "  File \"/opt/anaconda3/lib/python3.9/site-packages/joblib/parallel.py\", line 262, in <listcomp>\n",
      "    return [func(*args, **kwargs)\n",
      "  File \"/opt/anaconda3/lib/python3.9/site-packages/sklearn/utils/fixes.py\", line 117, in __call__\n",
      "    return self.function(*args, **kwargs)\n",
      "  File \"/opt/anaconda3/lib/python3.9/site-packages/sklearn/multiclass.py\", line 83, in _fit_binary\n",
      "    estimator.fit(X, y)\n",
      "  File \"/opt/anaconda3/lib/python3.9/site-packages/sklearn/linear_model/_logistic.py\", line 1091, in fit\n",
      "    solver = _check_solver(self.solver, self.penalty, self.dual)\n",
      "  File \"/opt/anaconda3/lib/python3.9/site-packages/sklearn/linear_model/_logistic.py\", line 61, in _check_solver\n",
      "    raise ValueError(\n",
      "ValueError: Solver lbfgs supports only 'l2' or 'none' penalties, got l1 penalty.\n",
      "\n",
      "  warnings.warn(some_fits_failed_message, FitFailedWarning)\n",
      "/opt/anaconda3/lib/python3.9/site-packages/sklearn/model_selection/_search.py:953: UserWarning: One or more of the test scores are non-finite: [       nan 0.21819551        nan 0.24935584]\n",
      "  warnings.warn(\n",
      "/opt/anaconda3/lib/python3.9/site-packages/sklearn/model_selection/_search.py:953: UserWarning: One or more of the train scores are non-finite: [       nan 0.25028052        nan 0.30855226]\n",
      "  warnings.warn(\n"
     ]
    },
    {
     "name": "stdout",
     "output_type": "stream",
     "text": [
      "[CV] END estimator__class_weight=balanced, estimator__penalty=l2; total time=   9.9s\n",
      "[CV] END estimator__class_weight=balanced, estimator__penalty=l2; total time=   9.9s\n"
     ]
    },
    {
     "name": "stderr",
     "output_type": "stream",
     "text": [
      "/opt/anaconda3/lib/python3.9/site-packages/sklearn/linear_model/_logistic.py:444: ConvergenceWarning: lbfgs failed to converge (status=1):\n",
      "STOP: TOTAL NO. of ITERATIONS REACHED LIMIT.\n",
      "\n",
      "Increase the number of iterations (max_iter) or scale the data as shown in:\n",
      "    https://scikit-learn.org/stable/modules/preprocessing.html\n",
      "Please also refer to the documentation for alternative solver options:\n",
      "    https://scikit-learn.org/stable/modules/linear_model.html#logistic-regression\n",
      "  n_iter_i = _check_optimize_result(\n",
      "/opt/anaconda3/lib/python3.9/site-packages/sklearn/linear_model/_logistic.py:444: ConvergenceWarning: lbfgs failed to converge (status=1):\n",
      "STOP: TOTAL NO. of ITERATIONS REACHED LIMIT.\n",
      "\n",
      "Increase the number of iterations (max_iter) or scale the data as shown in:\n",
      "    https://scikit-learn.org/stable/modules/preprocessing.html\n",
      "Please also refer to the documentation for alternative solver options:\n",
      "    https://scikit-learn.org/stable/modules/linear_model.html#logistic-regression\n",
      "  n_iter_i = _check_optimize_result(\n",
      "/opt/anaconda3/lib/python3.9/site-packages/sklearn/linear_model/_logistic.py:444: ConvergenceWarning: lbfgs failed to converge (status=1):\n",
      "STOP: TOTAL NO. of ITERATIONS REACHED LIMIT.\n",
      "\n",
      "Increase the number of iterations (max_iter) or scale the data as shown in:\n",
      "    https://scikit-learn.org/stable/modules/preprocessing.html\n",
      "Please also refer to the documentation for alternative solver options:\n",
      "    https://scikit-learn.org/stable/modules/linear_model.html#logistic-regression\n",
      "  n_iter_i = _check_optimize_result(\n",
      "/opt/anaconda3/lib/python3.9/site-packages/sklearn/linear_model/_logistic.py:444: ConvergenceWarning: lbfgs failed to converge (status=1):\n",
      "STOP: TOTAL NO. of ITERATIONS REACHED LIMIT.\n",
      "\n",
      "Increase the number of iterations (max_iter) or scale the data as shown in:\n",
      "    https://scikit-learn.org/stable/modules/preprocessing.html\n",
      "Please also refer to the documentation for alternative solver options:\n",
      "    https://scikit-learn.org/stable/modules/linear_model.html#logistic-regression\n",
      "  n_iter_i = _check_optimize_result(\n",
      "/opt/anaconda3/lib/python3.9/site-packages/sklearn/linear_model/_logistic.py:444: ConvergenceWarning: lbfgs failed to converge (status=1):\n",
      "STOP: TOTAL NO. of ITERATIONS REACHED LIMIT.\n",
      "\n",
      "Increase the number of iterations (max_iter) or scale the data as shown in:\n",
      "    https://scikit-learn.org/stable/modules/preprocessing.html\n",
      "Please also refer to the documentation for alternative solver options:\n",
      "    https://scikit-learn.org/stable/modules/linear_model.html#logistic-regression\n",
      "  n_iter_i = _check_optimize_result(\n"
     ]
    },
    {
     "data": {
      "text/html": [
       "<style>#sk-container-id-2 {color: black;background-color: white;}#sk-container-id-2 pre{padding: 0;}#sk-container-id-2 div.sk-toggleable {background-color: white;}#sk-container-id-2 label.sk-toggleable__label {cursor: pointer;display: block;width: 100%;margin-bottom: 0;padding: 0.3em;box-sizing: border-box;text-align: center;}#sk-container-id-2 label.sk-toggleable__label-arrow:before {content: \"▸\";float: left;margin-right: 0.25em;color: #696969;}#sk-container-id-2 label.sk-toggleable__label-arrow:hover:before {color: black;}#sk-container-id-2 div.sk-estimator:hover label.sk-toggleable__label-arrow:before {color: black;}#sk-container-id-2 div.sk-toggleable__content {max-height: 0;max-width: 0;overflow: hidden;text-align: left;background-color: #f0f8ff;}#sk-container-id-2 div.sk-toggleable__content pre {margin: 0.2em;color: black;border-radius: 0.25em;background-color: #f0f8ff;}#sk-container-id-2 input.sk-toggleable__control:checked~div.sk-toggleable__content {max-height: 200px;max-width: 100%;overflow: auto;}#sk-container-id-2 input.sk-toggleable__control:checked~label.sk-toggleable__label-arrow:before {content: \"▾\";}#sk-container-id-2 div.sk-estimator input.sk-toggleable__control:checked~label.sk-toggleable__label {background-color: #d4ebff;}#sk-container-id-2 div.sk-label input.sk-toggleable__control:checked~label.sk-toggleable__label {background-color: #d4ebff;}#sk-container-id-2 input.sk-hidden--visually {border: 0;clip: rect(1px 1px 1px 1px);clip: rect(1px, 1px, 1px, 1px);height: 1px;margin: -1px;overflow: hidden;padding: 0;position: absolute;width: 1px;}#sk-container-id-2 div.sk-estimator {font-family: monospace;background-color: #f0f8ff;border: 1px dotted black;border-radius: 0.25em;box-sizing: border-box;margin-bottom: 0.5em;}#sk-container-id-2 div.sk-estimator:hover {background-color: #d4ebff;}#sk-container-id-2 div.sk-parallel-item::after {content: \"\";width: 100%;border-bottom: 1px solid gray;flex-grow: 1;}#sk-container-id-2 div.sk-label:hover label.sk-toggleable__label {background-color: #d4ebff;}#sk-container-id-2 div.sk-serial::before {content: \"\";position: absolute;border-left: 1px solid gray;box-sizing: border-box;top: 0;bottom: 0;left: 50%;z-index: 0;}#sk-container-id-2 div.sk-serial {display: flex;flex-direction: column;align-items: center;background-color: white;padding-right: 0.2em;padding-left: 0.2em;position: relative;}#sk-container-id-2 div.sk-item {position: relative;z-index: 1;}#sk-container-id-2 div.sk-parallel {display: flex;align-items: stretch;justify-content: center;background-color: white;position: relative;}#sk-container-id-2 div.sk-item::before, #sk-container-id-2 div.sk-parallel-item::before {content: \"\";position: absolute;border-left: 1px solid gray;box-sizing: border-box;top: 0;bottom: 0;left: 50%;z-index: -1;}#sk-container-id-2 div.sk-parallel-item {display: flex;flex-direction: column;z-index: 1;position: relative;background-color: white;}#sk-container-id-2 div.sk-parallel-item:first-child::after {align-self: flex-end;width: 50%;}#sk-container-id-2 div.sk-parallel-item:last-child::after {align-self: flex-start;width: 50%;}#sk-container-id-2 div.sk-parallel-item:only-child::after {width: 0;}#sk-container-id-2 div.sk-dashed-wrapped {border: 1px dashed gray;margin: 0 0.4em 0.5em 0.4em;box-sizing: border-box;padding-bottom: 0.4em;background-color: white;}#sk-container-id-2 div.sk-label label {font-family: monospace;font-weight: bold;display: inline-block;line-height: 1.2em;}#sk-container-id-2 div.sk-label-container {text-align: center;}#sk-container-id-2 div.sk-container {/* jupyter's `normalize.less` sets `[hidden] { display: none; }` but bootstrap.min.css set `[hidden] { display: none !important; }` so we also need the `!important` here to be able to override the default hidden behavior on the sphinx rendered scikit-learn.org. See: https://github.com/scikit-learn/scikit-learn/issues/21755 */display: inline-block !important;position: relative;}#sk-container-id-2 div.sk-text-repr-fallback {display: none;}</style><div id=\"sk-container-id-2\" class=\"sk-top-container\"><div class=\"sk-text-repr-fallback\"><pre>GridSearchCV(cv=2,\n",
       "             estimator=OneVsRestClassifier(estimator=LogisticRegression()),\n",
       "             n_jobs=-1,\n",
       "             param_grid={&#x27;estimator__class_weight&#x27;: [None, &#x27;balanced&#x27;],\n",
       "                         &#x27;estimator__penalty&#x27;: [&#x27;l1&#x27;, &#x27;l2&#x27;]},\n",
       "             return_train_score=True, scoring=&#x27;f1_macro&#x27;, verbose=2)</pre><b>In a Jupyter environment, please rerun this cell to show the HTML representation or trust the notebook. <br />On GitHub, the HTML representation is unable to render, please try loading this page with nbviewer.org.</b></div><div class=\"sk-container\" hidden><div class=\"sk-item sk-dashed-wrapped\"><div class=\"sk-label-container\"><div class=\"sk-label sk-toggleable\"><input class=\"sk-toggleable__control sk-hidden--visually\" id=\"sk-estimator-id-5\" type=\"checkbox\" ><label for=\"sk-estimator-id-5\" class=\"sk-toggleable__label sk-toggleable__label-arrow\">GridSearchCV</label><div class=\"sk-toggleable__content\"><pre>GridSearchCV(cv=2,\n",
       "             estimator=OneVsRestClassifier(estimator=LogisticRegression()),\n",
       "             n_jobs=-1,\n",
       "             param_grid={&#x27;estimator__class_weight&#x27;: [None, &#x27;balanced&#x27;],\n",
       "                         &#x27;estimator__penalty&#x27;: [&#x27;l1&#x27;, &#x27;l2&#x27;]},\n",
       "             return_train_score=True, scoring=&#x27;f1_macro&#x27;, verbose=2)</pre></div></div></div><div class=\"sk-parallel\"><div class=\"sk-parallel-item\"><div class=\"sk-item\"><div class=\"sk-label-container\"><div class=\"sk-label sk-toggleable\"><input class=\"sk-toggleable__control sk-hidden--visually\" id=\"sk-estimator-id-6\" type=\"checkbox\" ><label for=\"sk-estimator-id-6\" class=\"sk-toggleable__label sk-toggleable__label-arrow\">estimator: OneVsRestClassifier</label><div class=\"sk-toggleable__content\"><pre>OneVsRestClassifier(estimator=LogisticRegression())</pre></div></div></div><div class=\"sk-serial\"><div class=\"sk-item sk-dashed-wrapped\"><div class=\"sk-parallel\"><div class=\"sk-parallel-item\"><div class=\"sk-item\"><div class=\"sk-label-container\"><div class=\"sk-label sk-toggleable\"><input class=\"sk-toggleable__control sk-hidden--visually\" id=\"sk-estimator-id-7\" type=\"checkbox\" ><label for=\"sk-estimator-id-7\" class=\"sk-toggleable__label sk-toggleable__label-arrow\">estimator: LogisticRegression</label><div class=\"sk-toggleable__content\"><pre>LogisticRegression()</pre></div></div></div><div class=\"sk-serial\"><div class=\"sk-item\"><div class=\"sk-estimator sk-toggleable\"><input class=\"sk-toggleable__control sk-hidden--visually\" id=\"sk-estimator-id-8\" type=\"checkbox\" ><label for=\"sk-estimator-id-8\" class=\"sk-toggleable__label sk-toggleable__label-arrow\">LogisticRegression</label><div class=\"sk-toggleable__content\"><pre>LogisticRegression()</pre></div></div></div></div></div></div></div></div></div></div></div></div></div></div></div>"
      ],
      "text/plain": [
       "GridSearchCV(cv=2,\n",
       "             estimator=OneVsRestClassifier(estimator=LogisticRegression()),\n",
       "             n_jobs=-1,\n",
       "             param_grid={'estimator__class_weight': [None, 'balanced'],\n",
       "                         'estimator__penalty': ['l1', 'l2']},\n",
       "             return_train_score=True, scoring='f1_macro', verbose=2)"
      ]
     },
     "execution_count": 28,
     "metadata": {},
     "output_type": "execute_result"
    }
   ],
   "source": [
    "#GridSearch on Logistic regression to find best suited parameters for model\n",
    "logistic_regression = OneVsRestClassifier(LogisticRegression())\n",
    "parameterMatrix = {'estimator__penalty':['l1','l2'],'estimator__class_weight':[None, 'balanced']}\n",
    "gs_logistic_regression = GridSearchCV(logistic_regression, parameterMatrix, cv= 2, scoring='f1_macro', verbose=2, return_train_score=True, n_jobs=-1)\n",
    "gs_logistic_regression.fit(X_train, y_train)"
   ]
  },
  {
   "cell_type": "code",
   "execution_count": 30,
   "metadata": {},
   "outputs": [
    {
     "name": "stdout",
     "output_type": "stream",
     "text": [
      "{'estimator__class_weight': 'balanced', 'estimator__penalty': 'l2'}\n"
     ]
    }
   ],
   "source": [
    "performanceMatrix = gs_logistic_regression.best_params_\n",
    "print(performanceMatrix)"
   ]
  },
  {
   "cell_type": "code",
   "execution_count": 32,
   "metadata": {},
   "outputs": [
    {
     "name": "stderr",
     "output_type": "stream",
     "text": [
      "/opt/anaconda3/lib/python3.9/site-packages/sklearn/linear_model/_logistic.py:444: ConvergenceWarning: lbfgs failed to converge (status=1):\n",
      "STOP: TOTAL NO. of ITERATIONS REACHED LIMIT.\n",
      "\n",
      "Increase the number of iterations (max_iter) or scale the data as shown in:\n",
      "    https://scikit-learn.org/stable/modules/preprocessing.html\n",
      "Please also refer to the documentation for alternative solver options:\n",
      "    https://scikit-learn.org/stable/modules/linear_model.html#logistic-regression\n",
      "  n_iter_i = _check_optimize_result(\n",
      "/opt/anaconda3/lib/python3.9/site-packages/sklearn/linear_model/_logistic.py:444: ConvergenceWarning: lbfgs failed to converge (status=1):\n",
      "STOP: TOTAL NO. of ITERATIONS REACHED LIMIT.\n",
      "\n",
      "Increase the number of iterations (max_iter) or scale the data as shown in:\n",
      "    https://scikit-learn.org/stable/modules/preprocessing.html\n",
      "Please also refer to the documentation for alternative solver options:\n",
      "    https://scikit-learn.org/stable/modules/linear_model.html#logistic-regression\n",
      "  n_iter_i = _check_optimize_result(\n",
      "/opt/anaconda3/lib/python3.9/site-packages/sklearn/linear_model/_logistic.py:444: ConvergenceWarning: lbfgs failed to converge (status=1):\n",
      "STOP: TOTAL NO. of ITERATIONS REACHED LIMIT.\n",
      "\n",
      "Increase the number of iterations (max_iter) or scale the data as shown in:\n",
      "    https://scikit-learn.org/stable/modules/preprocessing.html\n",
      "Please also refer to the documentation for alternative solver options:\n",
      "    https://scikit-learn.org/stable/modules/linear_model.html#logistic-regression\n",
      "  n_iter_i = _check_optimize_result(\n",
      "/opt/anaconda3/lib/python3.9/site-packages/sklearn/linear_model/_logistic.py:444: ConvergenceWarning: lbfgs failed to converge (status=1):\n",
      "STOP: TOTAL NO. of ITERATIONS REACHED LIMIT.\n",
      "\n",
      "Increase the number of iterations (max_iter) or scale the data as shown in:\n",
      "    https://scikit-learn.org/stable/modules/preprocessing.html\n",
      "Please also refer to the documentation for alternative solver options:\n",
      "    https://scikit-learn.org/stable/modules/linear_model.html#logistic-regression\n",
      "  n_iter_i = _check_optimize_result(\n",
      "/opt/anaconda3/lib/python3.9/site-packages/sklearn/linear_model/_logistic.py:444: ConvergenceWarning: lbfgs failed to converge (status=1):\n",
      "STOP: TOTAL NO. of ITERATIONS REACHED LIMIT.\n",
      "\n",
      "Increase the number of iterations (max_iter) or scale the data as shown in:\n",
      "    https://scikit-learn.org/stable/modules/preprocessing.html\n",
      "Please also refer to the documentation for alternative solver options:\n",
      "    https://scikit-learn.org/stable/modules/linear_model.html#logistic-regression\n",
      "  n_iter_i = _check_optimize_result(\n"
     ]
    },
    {
     "data": {
      "text/html": [
       "<style>#sk-container-id-4 {color: black;background-color: white;}#sk-container-id-4 pre{padding: 0;}#sk-container-id-4 div.sk-toggleable {background-color: white;}#sk-container-id-4 label.sk-toggleable__label {cursor: pointer;display: block;width: 100%;margin-bottom: 0;padding: 0.3em;box-sizing: border-box;text-align: center;}#sk-container-id-4 label.sk-toggleable__label-arrow:before {content: \"▸\";float: left;margin-right: 0.25em;color: #696969;}#sk-container-id-4 label.sk-toggleable__label-arrow:hover:before {color: black;}#sk-container-id-4 div.sk-estimator:hover label.sk-toggleable__label-arrow:before {color: black;}#sk-container-id-4 div.sk-toggleable__content {max-height: 0;max-width: 0;overflow: hidden;text-align: left;background-color: #f0f8ff;}#sk-container-id-4 div.sk-toggleable__content pre {margin: 0.2em;color: black;border-radius: 0.25em;background-color: #f0f8ff;}#sk-container-id-4 input.sk-toggleable__control:checked~div.sk-toggleable__content {max-height: 200px;max-width: 100%;overflow: auto;}#sk-container-id-4 input.sk-toggleable__control:checked~label.sk-toggleable__label-arrow:before {content: \"▾\";}#sk-container-id-4 div.sk-estimator input.sk-toggleable__control:checked~label.sk-toggleable__label {background-color: #d4ebff;}#sk-container-id-4 div.sk-label input.sk-toggleable__control:checked~label.sk-toggleable__label {background-color: #d4ebff;}#sk-container-id-4 input.sk-hidden--visually {border: 0;clip: rect(1px 1px 1px 1px);clip: rect(1px, 1px, 1px, 1px);height: 1px;margin: -1px;overflow: hidden;padding: 0;position: absolute;width: 1px;}#sk-container-id-4 div.sk-estimator {font-family: monospace;background-color: #f0f8ff;border: 1px dotted black;border-radius: 0.25em;box-sizing: border-box;margin-bottom: 0.5em;}#sk-container-id-4 div.sk-estimator:hover {background-color: #d4ebff;}#sk-container-id-4 div.sk-parallel-item::after {content: \"\";width: 100%;border-bottom: 1px solid gray;flex-grow: 1;}#sk-container-id-4 div.sk-label:hover label.sk-toggleable__label {background-color: #d4ebff;}#sk-container-id-4 div.sk-serial::before {content: \"\";position: absolute;border-left: 1px solid gray;box-sizing: border-box;top: 0;bottom: 0;left: 50%;z-index: 0;}#sk-container-id-4 div.sk-serial {display: flex;flex-direction: column;align-items: center;background-color: white;padding-right: 0.2em;padding-left: 0.2em;position: relative;}#sk-container-id-4 div.sk-item {position: relative;z-index: 1;}#sk-container-id-4 div.sk-parallel {display: flex;align-items: stretch;justify-content: center;background-color: white;position: relative;}#sk-container-id-4 div.sk-item::before, #sk-container-id-4 div.sk-parallel-item::before {content: \"\";position: absolute;border-left: 1px solid gray;box-sizing: border-box;top: 0;bottom: 0;left: 50%;z-index: -1;}#sk-container-id-4 div.sk-parallel-item {display: flex;flex-direction: column;z-index: 1;position: relative;background-color: white;}#sk-container-id-4 div.sk-parallel-item:first-child::after {align-self: flex-end;width: 50%;}#sk-container-id-4 div.sk-parallel-item:last-child::after {align-self: flex-start;width: 50%;}#sk-container-id-4 div.sk-parallel-item:only-child::after {width: 0;}#sk-container-id-4 div.sk-dashed-wrapped {border: 1px dashed gray;margin: 0 0.4em 0.5em 0.4em;box-sizing: border-box;padding-bottom: 0.4em;background-color: white;}#sk-container-id-4 div.sk-label label {font-family: monospace;font-weight: bold;display: inline-block;line-height: 1.2em;}#sk-container-id-4 div.sk-label-container {text-align: center;}#sk-container-id-4 div.sk-container {/* jupyter's `normalize.less` sets `[hidden] { display: none; }` but bootstrap.min.css set `[hidden] { display: none !important; }` so we also need the `!important` here to be able to override the default hidden behavior on the sphinx rendered scikit-learn.org. See: https://github.com/scikit-learn/scikit-learn/issues/21755 */display: inline-block !important;position: relative;}#sk-container-id-4 div.sk-text-repr-fallback {display: none;}</style><div id=\"sk-container-id-4\" class=\"sk-top-container\"><div class=\"sk-text-repr-fallback\"><pre>OneVsRestClassifier(estimator=LogisticRegression())</pre><b>In a Jupyter environment, please rerun this cell to show the HTML representation or trust the notebook. <br />On GitHub, the HTML representation is unable to render, please try loading this page with nbviewer.org.</b></div><div class=\"sk-container\" hidden><div class=\"sk-item sk-dashed-wrapped\"><div class=\"sk-label-container\"><div class=\"sk-label sk-toggleable\"><input class=\"sk-toggleable__control sk-hidden--visually\" id=\"sk-estimator-id-12\" type=\"checkbox\" ><label for=\"sk-estimator-id-12\" class=\"sk-toggleable__label sk-toggleable__label-arrow\">OneVsRestClassifier</label><div class=\"sk-toggleable__content\"><pre>OneVsRestClassifier(estimator=LogisticRegression())</pre></div></div></div><div class=\"sk-parallel\"><div class=\"sk-parallel-item\"><div class=\"sk-item\"><div class=\"sk-label-container\"><div class=\"sk-label sk-toggleable\"><input class=\"sk-toggleable__control sk-hidden--visually\" id=\"sk-estimator-id-13\" type=\"checkbox\" ><label for=\"sk-estimator-id-13\" class=\"sk-toggleable__label sk-toggleable__label-arrow\">estimator: LogisticRegression</label><div class=\"sk-toggleable__content\"><pre>LogisticRegression()</pre></div></div></div><div class=\"sk-serial\"><div class=\"sk-item\"><div class=\"sk-estimator sk-toggleable\"><input class=\"sk-toggleable__control sk-hidden--visually\" id=\"sk-estimator-id-14\" type=\"checkbox\" ><label for=\"sk-estimator-id-14\" class=\"sk-toggleable__label sk-toggleable__label-arrow\">LogisticRegression</label><div class=\"sk-toggleable__content\"><pre>LogisticRegression()</pre></div></div></div></div></div></div></div></div></div></div>"
      ],
      "text/plain": [
       "OneVsRestClassifier(estimator=LogisticRegression())"
      ]
     },
     "execution_count": 32,
     "metadata": {},
     "output_type": "execute_result"
    }
   ],
   "source": [
    "classifier_logistic_regression = OneVsRestClassifier(LogisticRegression())\n",
    "classifier_logistic_regression.fit(X_train, y_train)"
   ]
  },
  {
   "cell_type": "code",
   "execution_count": 33,
   "metadata": {},
   "outputs": [
    {
     "data": {
      "text/plain": [
       "0.3800333922677317"
      ]
     },
     "execution_count": 33,
     "metadata": {},
     "output_type": "execute_result"
    }
   ],
   "source": [
    "input = y_train   \n",
    "modelprediction = classifier_logistic_regression.predict(X_train.tocsr())\n",
    "score = precision_score(input, modelprediction, average='macro')\n",
    "score"
   ]
  },
  {
   "cell_type": "code",
   "execution_count": 34,
   "metadata": {},
   "outputs": [
    {
     "data": {
      "text/plain": [
       "0.30683694561523284"
      ]
     },
     "execution_count": 34,
     "metadata": {},
     "output_type": "execute_result"
    }
   ],
   "source": [
    "input = y_test   \n",
    "modelprediction = classifier_logistic_regression.predict(X_test.tocsr())\n",
    "score = precision_score(input, modelprediction, average='macro')\n",
    "score"
   ]
  },
  {
   "cell_type": "code",
   "execution_count": 37,
   "metadata": {},
   "outputs": [
    {
     "name": "stderr",
     "output_type": "stream",
     "text": [
      "/opt/anaconda3/lib/python3.9/site-packages/sklearn/utils/deprecation.py:87: FutureWarning: Function plot_confusion_matrix is deprecated; Function `plot_confusion_matrix` is deprecated in 1.0 and will be removed in 1.2. Use one of the class methods: ConfusionMatrixDisplay.from_predictions or ConfusionMatrixDisplay.from_estimator.\n",
      "  warnings.warn(msg, category=FutureWarning)\n",
      "/opt/anaconda3/lib/python3.9/site-packages/sklearn/utils/deprecation.py:87: FutureWarning: Function plot_confusion_matrix is deprecated; Function `plot_confusion_matrix` is deprecated in 1.0 and will be removed in 1.2. Use one of the class methods: ConfusionMatrixDisplay.from_predictions or ConfusionMatrixDisplay.from_estimator.\n",
      "  warnings.warn(msg, category=FutureWarning)\n"
     ]
    },
    {
     "data": {
      "image/png": "[encoded data removed]",
      "text/plain": [
       "<Figure size 2500x1000 with 4 Axes>"
      ]
     },
     "metadata": {},
     "output_type": "display_data"
    }
   ],
   "source": [
    "### Confusion Matrix\n",
    "figure, axes = plt.subplots(1, 2, figsize=(25,10))\n",
    "plot_confusion_matrix(classifier_logistic_regression, X_train, y_train, values_format='.3g', ax=axes[0], normalize='pred', cmap='gist_gray')  \n",
    "plot_confusion_matrix(classifier_logistic_regression, X_test, y_test, values_format='.3g', ax=axes[1], normalize='pred', cmap='gist_gray') \n",
    "axes[0].set_title('Train Prediction')\n",
    "axes[1].set_title('Test prediction') \n",
    "plt.show()"
   ]
  },
  {
   "cell_type": "code",
   "execution_count": 36,
   "metadata": {},
   "outputs": [
    {
     "name": "stdout",
     "output_type": "stream",
     "text": [
      "Fitting 2 folds for each of 2 candidates, totalling 4 fits\n",
      "[CV] END .................max_depth=15, min_samples_split=20; total time=  12.7s\n",
      "[CV] END .................max_depth=15, min_samples_split=20; total time=  13.7s\n",
      "[CV] END .................max_depth=17, min_samples_split=20; total time=  15.5s\n",
      "[CV] END .................max_depth=17, min_samples_split=20; total time=  16.3s\n"
     ]
    },
    {
     "data": {
      "text/html": [
       "<style>#sk-container-id-5 {color: black;background-color: white;}#sk-container-id-5 pre{padding: 0;}#sk-container-id-5 div.sk-toggleable {background-color: white;}#sk-container-id-5 label.sk-toggleable__label {cursor: pointer;display: block;width: 100%;margin-bottom: 0;padding: 0.3em;box-sizing: border-box;text-align: center;}#sk-container-id-5 label.sk-toggleable__label-arrow:before {content: \"▸\";float: left;margin-right: 0.25em;color: #696969;}#sk-container-id-5 label.sk-toggleable__label-arrow:hover:before {color: black;}#sk-container-id-5 div.sk-estimator:hover label.sk-toggleable__label-arrow:before {color: black;}#sk-container-id-5 div.sk-toggleable__content {max-height: 0;max-width: 0;overflow: hidden;text-align: left;background-color: #f0f8ff;}#sk-container-id-5 div.sk-toggleable__content pre {margin: 0.2em;color: black;border-radius: 0.25em;background-color: #f0f8ff;}#sk-container-id-5 input.sk-toggleable__control:checked~div.sk-toggleable__content {max-height: 200px;max-width: 100%;overflow: auto;}#sk-container-id-5 input.sk-toggleable__control:checked~label.sk-toggleable__label-arrow:before {content: \"▾\";}#sk-container-id-5 div.sk-estimator input.sk-toggleable__control:checked~label.sk-toggleable__label {background-color: #d4ebff;}#sk-container-id-5 div.sk-label input.sk-toggleable__control:checked~label.sk-toggleable__label {background-color: #d4ebff;}#sk-container-id-5 input.sk-hidden--visually {border: 0;clip: rect(1px 1px 1px 1px);clip: rect(1px, 1px, 1px, 1px);height: 1px;margin: -1px;overflow: hidden;padding: 0;position: absolute;width: 1px;}#sk-container-id-5 div.sk-estimator {font-family: monospace;background-color: #f0f8ff;border: 1px dotted black;border-radius: 0.25em;box-sizing: border-box;margin-bottom: 0.5em;}#sk-container-id-5 div.sk-estimator:hover {background-color: #d4ebff;}#sk-container-id-5 div.sk-parallel-item::after {content: \"\";width: 100%;border-bottom: 1px solid gray;flex-grow: 1;}#sk-container-id-5 div.sk-label:hover label.sk-toggleable__label {background-color: #d4ebff;}#sk-container-id-5 div.sk-serial::before {content: \"\";position: absolute;border-left: 1px solid gray;box-sizing: border-box;top: 0;bottom: 0;left: 50%;z-index: 0;}#sk-container-id-5 div.sk-serial {display: flex;flex-direction: column;align-items: center;background-color: white;padding-right: 0.2em;padding-left: 0.2em;position: relative;}#sk-container-id-5 div.sk-item {position: relative;z-index: 1;}#sk-container-id-5 div.sk-parallel {display: flex;align-items: stretch;justify-content: center;background-color: white;position: relative;}#sk-container-id-5 div.sk-item::before, #sk-container-id-5 div.sk-parallel-item::before {content: \"\";position: absolute;border-left: 1px solid gray;box-sizing: border-box;top: 0;bottom: 0;left: 50%;z-index: -1;}#sk-container-id-5 div.sk-parallel-item {display: flex;flex-direction: column;z-index: 1;position: relative;background-color: white;}#sk-container-id-5 div.sk-parallel-item:first-child::after {align-self: flex-end;width: 50%;}#sk-container-id-5 div.sk-parallel-item:last-child::after {align-self: flex-start;width: 50%;}#sk-container-id-5 div.sk-parallel-item:only-child::after {width: 0;}#sk-container-id-5 div.sk-dashed-wrapped {border: 1px dashed gray;margin: 0 0.4em 0.5em 0.4em;box-sizing: border-box;padding-bottom: 0.4em;background-color: white;}#sk-container-id-5 div.sk-label label {font-family: monospace;font-weight: bold;display: inline-block;line-height: 1.2em;}#sk-container-id-5 div.sk-label-container {text-align: center;}#sk-container-id-5 div.sk-container {/* jupyter's `normalize.less` sets `[hidden] { display: none; }` but bootstrap.min.css set `[hidden] { display: none !important; }` so we also need the `!important` here to be able to override the default hidden behavior on the sphinx rendered scikit-learn.org. See: https://github.com/scikit-learn/scikit-learn/issues/21755 */display: inline-block !important;position: relative;}#sk-container-id-5 div.sk-text-repr-fallback {display: none;}</style><div id=\"sk-container-id-5\" class=\"sk-top-container\"><div class=\"sk-text-repr-fallback\"><pre>GridSearchCV(cv=2, estimator=DecisionTreeClassifier(), n_jobs=-1,\n",
       "             param_grid={&#x27;max_depth&#x27;: [15, 17], &#x27;min_samples_split&#x27;: [20]},\n",
       "             return_train_score=True, scoring=&#x27;f1_macro&#x27;, verbose=2)</pre><b>In a Jupyter environment, please rerun this cell to show the HTML representation or trust the notebook. <br />On GitHub, the HTML representation is unable to render, please try loading this page with nbviewer.org.</b></div><div class=\"sk-container\" hidden><div class=\"sk-item sk-dashed-wrapped\"><div class=\"sk-label-container\"><div class=\"sk-label sk-toggleable\"><input class=\"sk-toggleable__control sk-hidden--visually\" id=\"sk-estimator-id-15\" type=\"checkbox\" ><label for=\"sk-estimator-id-15\" class=\"sk-toggleable__label sk-toggleable__label-arrow\">GridSearchCV</label><div class=\"sk-toggleable__content\"><pre>GridSearchCV(cv=2, estimator=DecisionTreeClassifier(), n_jobs=-1,\n",
       "             param_grid={&#x27;max_depth&#x27;: [15, 17], &#x27;min_samples_split&#x27;: [20]},\n",
       "             return_train_score=True, scoring=&#x27;f1_macro&#x27;, verbose=2)</pre></div></div></div><div class=\"sk-parallel\"><div class=\"sk-parallel-item\"><div class=\"sk-item\"><div class=\"sk-label-container\"><div class=\"sk-label sk-toggleable\"><input class=\"sk-toggleable__control sk-hidden--visually\" id=\"sk-estimator-id-16\" type=\"checkbox\" ><label for=\"sk-estimator-id-16\" class=\"sk-toggleable__label sk-toggleable__label-arrow\">estimator: DecisionTreeClassifier</label><div class=\"sk-toggleable__content\"><pre>DecisionTreeClassifier()</pre></div></div></div><div class=\"sk-serial\"><div class=\"sk-item\"><div class=\"sk-estimator sk-toggleable\"><input class=\"sk-toggleable__control sk-hidden--visually\" id=\"sk-estimator-id-17\" type=\"checkbox\" ><label for=\"sk-estimator-id-17\" class=\"sk-toggleable__label sk-toggleable__label-arrow\">DecisionTreeClassifier</label><div class=\"sk-toggleable__content\"><pre>DecisionTreeClassifier()</pre></div></div></div></div></div></div></div></div></div></div>"
      ],
      "text/plain": [
       "GridSearchCV(cv=2, estimator=DecisionTreeClassifier(), n_jobs=-1,\n",
       "             param_grid={'max_depth': [15, 17], 'min_samples_split': [20]},\n",
       "             return_train_score=True, scoring='f1_macro', verbose=2)"
      ]
     },
     "execution_count": 36,
     "metadata": {},
     "output_type": "execute_result"
    }
   ],
   "source": [
    "##GridSearch on DecisionTree to find best suited parameters for model\n",
    "classifier= DecisionTreeClassifier()\n",
    "parameters = {'max_depth':[15, 17],'min_samples_split':[20]}\n",
    "classifier_1 = GridSearchCV(classifier, parameters, cv= 2, scoring='f1_macro', verbose=2, return_train_score=True, n_jobs=-1)\n",
    "classifier_1.fit(X_train, y_train)"
   ]
  },
  {
   "cell_type": "code",
   "execution_count": 39,
   "metadata": {},
   "outputs": [
    {
     "name": "stdout",
     "output_type": "stream",
     "text": [
      "{'max_depth': 17, 'min_samples_split': 20}\n"
     ]
    }
   ],
   "source": [
    "performanceMatrix = classifier_1.best_params_\n",
    "print(performanceMatrix)"
   ]
  },
  {
   "cell_type": "code",
   "execution_count": 40,
   "metadata": {},
   "outputs": [
    {
     "data": {
      "text/html": [
       "<style>#sk-container-id-6 {color: black;background-color: white;}#sk-container-id-6 pre{padding: 0;}#sk-container-id-6 div.sk-toggleable {background-color: white;}#sk-container-id-6 label.sk-toggleable__label {cursor: pointer;display: block;width: 100%;margin-bottom: 0;padding: 0.3em;box-sizing: border-box;text-align: center;}#sk-container-id-6 label.sk-toggleable__label-arrow:before {content: \"▸\";float: left;margin-right: 0.25em;color: #696969;}#sk-container-id-6 label.sk-toggleable__label-arrow:hover:before {color: black;}#sk-container-id-6 div.sk-estimator:hover label.sk-toggleable__label-arrow:before {color: black;}#sk-container-id-6 div.sk-toggleable__content {max-height: 0;max-width: 0;overflow: hidden;text-align: left;background-color: #f0f8ff;}#sk-container-id-6 div.sk-toggleable__content pre {margin: 0.2em;color: black;border-radius: 0.25em;background-color: #f0f8ff;}#sk-container-id-6 input.sk-toggleable__control:checked~div.sk-toggleable__content {max-height: 200px;max-width: 100%;overflow: auto;}#sk-container-id-6 input.sk-toggleable__control:checked~label.sk-toggleable__label-arrow:before {content: \"▾\";}#sk-container-id-6 div.sk-estimator input.sk-toggleable__control:checked~label.sk-toggleable__label {background-color: #d4ebff;}#sk-container-id-6 div.sk-label input.sk-toggleable__control:checked~label.sk-toggleable__label {background-color: #d4ebff;}#sk-container-id-6 input.sk-hidden--visually {border: 0;clip: rect(1px 1px 1px 1px);clip: rect(1px, 1px, 1px, 1px);height: 1px;margin: -1px;overflow: hidden;padding: 0;position: absolute;width: 1px;}#sk-container-id-6 div.sk-estimator {font-family: monospace;background-color: #f0f8ff;border: 1px dotted black;border-radius: 0.25em;box-sizing: border-box;margin-bottom: 0.5em;}#sk-container-id-6 div.sk-estimator:hover {background-color: #d4ebff;}#sk-container-id-6 div.sk-parallel-item::after {content: \"\";width: 100%;border-bottom: 1px solid gray;flex-grow: 1;}#sk-container-id-6 div.sk-label:hover label.sk-toggleable__label {background-color: #d4ebff;}#sk-container-id-6 div.sk-serial::before {content: \"\";position: absolute;border-left: 1px solid gray;box-sizing: border-box;top: 0;bottom: 0;left: 50%;z-index: 0;}#sk-container-id-6 div.sk-serial {display: flex;flex-direction: column;align-items: center;background-color: white;padding-right: 0.2em;padding-left: 0.2em;position: relative;}#sk-container-id-6 div.sk-item {position: relative;z-index: 1;}#sk-container-id-6 div.sk-parallel {display: flex;align-items: stretch;justify-content: center;background-color: white;position: relative;}#sk-container-id-6 div.sk-item::before, #sk-container-id-6 div.sk-parallel-item::before {content: \"\";position: absolute;border-left: 1px solid gray;box-sizing: border-box;top: 0;bottom: 0;left: 50%;z-index: -1;}#sk-container-id-6 div.sk-parallel-item {display: flex;flex-direction: column;z-index: 1;position: relative;background-color: white;}#sk-container-id-6 div.sk-parallel-item:first-child::after {align-self: flex-end;width: 50%;}#sk-container-id-6 div.sk-parallel-item:last-child::after {align-self: flex-start;width: 50%;}#sk-container-id-6 div.sk-parallel-item:only-child::after {width: 0;}#sk-container-id-6 div.sk-dashed-wrapped {border: 1px dashed gray;margin: 0 0.4em 0.5em 0.4em;box-sizing: border-box;padding-bottom: 0.4em;background-color: white;}#sk-container-id-6 div.sk-label label {font-family: monospace;font-weight: bold;display: inline-block;line-height: 1.2em;}#sk-container-id-6 div.sk-label-container {text-align: center;}#sk-container-id-6 div.sk-container {/* jupyter's `normalize.less` sets `[hidden] { display: none; }` but bootstrap.min.css set `[hidden] { display: none !important; }` so we also need the `!important` here to be able to override the default hidden behavior on the sphinx rendered scikit-learn.org. See: https://github.com/scikit-learn/scikit-learn/issues/21755 */display: inline-block !important;position: relative;}#sk-container-id-6 div.sk-text-repr-fallback {display: none;}</style><div id=\"sk-container-id-6\" class=\"sk-top-container\"><div class=\"sk-text-repr-fallback\"><pre>DecisionTreeClassifier(max_depth=20, min_samples_split=20)</pre><b>In a Jupyter environment, please rerun this cell to show the HTML representation or trust the notebook. <br />On GitHub, the HTML representation is unable to render, please try loading this page with nbviewer.org.</b></div><div class=\"sk-container\" hidden><div class=\"sk-item\"><div class=\"sk-estimator sk-toggleable\"><input class=\"sk-toggleable__control sk-hidden--visually\" id=\"sk-estimator-id-18\" type=\"checkbox\" checked><label for=\"sk-estimator-id-18\" class=\"sk-toggleable__label sk-toggleable__label-arrow\">DecisionTreeClassifier</label><div class=\"sk-toggleable__content\"><pre>DecisionTreeClassifier(max_depth=20, min_samples_split=20)</pre></div></div></div></div></div>"
      ],
      "text/plain": [
       "DecisionTreeClassifier(max_depth=20, min_samples_split=20)"
      ]
     },
     "execution_count": 40,
     "metadata": {},
     "output_type": "execute_result"
    }
   ],
   "source": [
    "classifierAccurate = DecisionTreeClassifier(max_depth=20, min_samples_split=20)\n",
    "classifierAccurate.fit(X_train, y_train)"
   ]
  },
  {
   "cell_type": "code",
   "execution_count": 38,
   "metadata": {},
   "outputs": [
    {
     "data": {
      "text/plain": [
       "0.49780073542707415"
      ]
     },
     "execution_count": 38,
     "metadata": {},
     "output_type": "execute_result"
    }
   ],
   "source": [
    "## Evaluting the model\n",
    "input = y_train   # max_depth=20, min_samples_split=20\n",
    "modelprediction = classifierAccurate.predict(X_train.tocsr())\n",
    "Model_val = precision_score(input, modelprediction, average='macro')\n",
    "Model_val"
   ]
  },
  {
   "cell_type": "code",
   "execution_count": 41,
   "metadata": {},
   "outputs": [
    {
     "data": {
      "text/plain": [
       "0.3019157378937092"
      ]
     },
     "execution_count": 41,
     "metadata": {},
     "output_type": "execute_result"
    }
   ],
   "source": [
    "input = y_test   # max_depth=20, min_samples_split=20\n",
    "modelprediction = classifierAccurate.predict(X_test.tocsr())\n",
    "Model_val = precision_score(input, modelprediction, average='macro')\n",
    "Model_val"
   ]
  },
  {
   "cell_type": "code",
   "execution_count": 42,
   "metadata": {},
   "outputs": [
    {
     "name": "stderr",
     "output_type": "stream",
     "text": [
      "/opt/anaconda3/lib/python3.9/site-packages/sklearn/utils/deprecation.py:87: FutureWarning: Function plot_confusion_matrix is deprecated; Function `plot_confusion_matrix` is deprecated in 1.0 and will be removed in 1.2. Use one of the class methods: ConfusionMatrixDisplay.from_predictions or ConfusionMatrixDisplay.from_estimator.\n",
      "  warnings.warn(msg, category=FutureWarning)\n",
      "/opt/anaconda3/lib/python3.9/site-packages/sklearn/utils/deprecation.py:87: FutureWarning: Function plot_confusion_matrix is deprecated; Function `plot_confusion_matrix` is deprecated in 1.0 and will be removed in 1.2. Use one of the class methods: ConfusionMatrixDisplay.from_predictions or ConfusionMatrixDisplay.from_estimator.\n",
      "  warnings.warn(msg, category=FutureWarning)\n"
     ]
    },
    {
     "data": {
      "image/png": "[encoded data removed]",
      "text/plain": [
       "<Figure size 2500x1000 with 4 Axes>"
      ]
     },
     "metadata": {},
     "output_type": "display_data"
    }
   ],
   "source": [
    "#### Confusion Matrix precision score\n",
    "figure, axes = plt.subplots(1, 2, figsize=(25,10))\n",
    "plot_confusion_matrix(classifierAccurate, X_train, y_train, values_format='.3g', ax=axes[0], normalize='pred', cmap='gist_gray')  \n",
    "plot_confusion_matrix(classifierAccurate, X_test, y_test, values_format='.3g', ax=axes[1], normalize='pred', cmap='gist_gray') \n",
    "axes[0].set_title('Train prediction')\n",
    "axes[1].set_title('Test prediction') \n",
    "plt.show()"
   ]
  },
  {
   "cell_type": "code",
   "execution_count": 43,
   "metadata": {},
   "outputs": [
    {
     "name": "stdout",
     "output_type": "stream",
     "text": [
      "Fitting 2 folds for each of 2 candidates, totalling 4 fits\n",
      "[CV] END .................max_depth=15, min_samples_split=25; total time=  14.7s\n",
      "[CV] END .................max_depth=15, min_samples_split=25; total time=  14.7s\n",
      "[CV] END .................max_depth=15, min_samples_split=20; total time=  14.9s\n",
      "[CV] END .................max_depth=15, min_samples_split=20; total time=  14.9s\n"
     ]
    },
    {
     "data": {
      "text/html": [
       "<style>#sk-container-id-7 {color: black;background-color: white;}#sk-container-id-7 pre{padding: 0;}#sk-container-id-7 div.sk-toggleable {background-color: white;}#sk-container-id-7 label.sk-toggleable__label {cursor: pointer;display: block;width: 100%;margin-bottom: 0;padding: 0.3em;box-sizing: border-box;text-align: center;}#sk-container-id-7 label.sk-toggleable__label-arrow:before {content: \"▸\";float: left;margin-right: 0.25em;color: #696969;}#sk-container-id-7 label.sk-toggleable__label-arrow:hover:before {color: black;}#sk-container-id-7 div.sk-estimator:hover label.sk-toggleable__label-arrow:before {color: black;}#sk-container-id-7 div.sk-toggleable__content {max-height: 0;max-width: 0;overflow: hidden;text-align: left;background-color: #f0f8ff;}#sk-container-id-7 div.sk-toggleable__content pre {margin: 0.2em;color: black;border-radius: 0.25em;background-color: #f0f8ff;}#sk-container-id-7 input.sk-toggleable__control:checked~div.sk-toggleable__content {max-height: 200px;max-width: 100%;overflow: auto;}#sk-container-id-7 input.sk-toggleable__control:checked~label.sk-toggleable__label-arrow:before {content: \"▾\";}#sk-container-id-7 div.sk-estimator input.sk-toggleable__control:checked~label.sk-toggleable__label {background-color: #d4ebff;}#sk-container-id-7 div.sk-label input.sk-toggleable__control:checked~label.sk-toggleable__label {background-color: #d4ebff;}#sk-container-id-7 input.sk-hidden--visually {border: 0;clip: rect(1px 1px 1px 1px);clip: rect(1px, 1px, 1px, 1px);height: 1px;margin: -1px;overflow: hidden;padding: 0;position: absolute;width: 1px;}#sk-container-id-7 div.sk-estimator {font-family: monospace;background-color: #f0f8ff;border: 1px dotted black;border-radius: 0.25em;box-sizing: border-box;margin-bottom: 0.5em;}#sk-container-id-7 div.sk-estimator:hover {background-color: #d4ebff;}#sk-container-id-7 div.sk-parallel-item::after {content: \"\";width: 100%;border-bottom: 1px solid gray;flex-grow: 1;}#sk-container-id-7 div.sk-label:hover label.sk-toggleable__label {background-color: #d4ebff;}#sk-container-id-7 div.sk-serial::before {content: \"\";position: absolute;border-left: 1px solid gray;box-sizing: border-box;top: 0;bottom: 0;left: 50%;z-index: 0;}#sk-container-id-7 div.sk-serial {display: flex;flex-direction: column;align-items: center;background-color: white;padding-right: 0.2em;padding-left: 0.2em;position: relative;}#sk-container-id-7 div.sk-item {position: relative;z-index: 1;}#sk-container-id-7 div.sk-parallel {display: flex;align-items: stretch;justify-content: center;background-color: white;position: relative;}#sk-container-id-7 div.sk-item::before, #sk-container-id-7 div.sk-parallel-item::before {content: \"\";position: absolute;border-left: 1px solid gray;box-sizing: border-box;top: 0;bottom: 0;left: 50%;z-index: -1;}#sk-container-id-7 div.sk-parallel-item {display: flex;flex-direction: column;z-index: 1;position: relative;background-color: white;}#sk-container-id-7 div.sk-parallel-item:first-child::after {align-self: flex-end;width: 50%;}#sk-container-id-7 div.sk-parallel-item:last-child::after {align-self: flex-start;width: 50%;}#sk-container-id-7 div.sk-parallel-item:only-child::after {width: 0;}#sk-container-id-7 div.sk-dashed-wrapped {border: 1px dashed gray;margin: 0 0.4em 0.5em 0.4em;box-sizing: border-box;padding-bottom: 0.4em;background-color: white;}#sk-container-id-7 div.sk-label label {font-family: monospace;font-weight: bold;display: inline-block;line-height: 1.2em;}#sk-container-id-7 div.sk-label-container {text-align: center;}#sk-container-id-7 div.sk-container {/* jupyter's `normalize.less` sets `[hidden] { display: none; }` but bootstrap.min.css set `[hidden] { display: none !important; }` so we also need the `!important` here to be able to override the default hidden behavior on the sphinx rendered scikit-learn.org. See: https://github.com/scikit-learn/scikit-learn/issues/21755 */display: inline-block !important;position: relative;}#sk-container-id-7 div.sk-text-repr-fallback {display: none;}</style><div id=\"sk-container-id-7\" class=\"sk-top-container\"><div class=\"sk-text-repr-fallback\"><pre>GridSearchCV(cv=2, estimator=RandomForestClassifier(), n_jobs=-1,\n",
       "             param_grid={&#x27;max_depth&#x27;: [15], &#x27;min_samples_split&#x27;: [20, 25]},\n",
       "             return_train_score=True, scoring=&#x27;f1_macro&#x27;, verbose=2)</pre><b>In a Jupyter environment, please rerun this cell to show the HTML representation or trust the notebook. <br />On GitHub, the HTML representation is unable to render, please try loading this page with nbviewer.org.</b></div><div class=\"sk-container\" hidden><div class=\"sk-item sk-dashed-wrapped\"><div class=\"sk-label-container\"><div class=\"sk-label sk-toggleable\"><input class=\"sk-toggleable__control sk-hidden--visually\" id=\"sk-estimator-id-19\" type=\"checkbox\" ><label for=\"sk-estimator-id-19\" class=\"sk-toggleable__label sk-toggleable__label-arrow\">GridSearchCV</label><div class=\"sk-toggleable__content\"><pre>GridSearchCV(cv=2, estimator=RandomForestClassifier(), n_jobs=-1,\n",
       "             param_grid={&#x27;max_depth&#x27;: [15], &#x27;min_samples_split&#x27;: [20, 25]},\n",
       "             return_train_score=True, scoring=&#x27;f1_macro&#x27;, verbose=2)</pre></div></div></div><div class=\"sk-parallel\"><div class=\"sk-parallel-item\"><div class=\"sk-item\"><div class=\"sk-label-container\"><div class=\"sk-label sk-toggleable\"><input class=\"sk-toggleable__control sk-hidden--visually\" id=\"sk-estimator-id-20\" type=\"checkbox\" ><label for=\"sk-estimator-id-20\" class=\"sk-toggleable__label sk-toggleable__label-arrow\">estimator: RandomForestClassifier</label><div class=\"sk-toggleable__content\"><pre>RandomForestClassifier()</pre></div></div></div><div class=\"sk-serial\"><div class=\"sk-item\"><div class=\"sk-estimator sk-toggleable\"><input class=\"sk-toggleable__control sk-hidden--visually\" id=\"sk-estimator-id-21\" type=\"checkbox\" ><label for=\"sk-estimator-id-21\" class=\"sk-toggleable__label sk-toggleable__label-arrow\">RandomForestClassifier</label><div class=\"sk-toggleable__content\"><pre>RandomForestClassifier()</pre></div></div></div></div></div></div></div></div></div></div>"
      ],
      "text/plain": [
       "GridSearchCV(cv=2, estimator=RandomForestClassifier(), n_jobs=-1,\n",
       "             param_grid={'max_depth': [15], 'min_samples_split': [20, 25]},\n",
       "             return_train_score=True, scoring='f1_macro', verbose=2)"
      ]
     },
     "execution_count": 43,
     "metadata": {},
     "output_type": "execute_result"
    }
   ],
   "source": [
    "####*GridSearch on RandomForest to find best suited parameters for model*\n",
    "classifier = RandomForestClassifier()\n",
    "modal_val = {'max_depth':[15],'min_samples_split':[20, 25]}\n",
    "classifier_1 = GridSearchCV(classifier, modal_val, cv= 2, scoring='f1_macro', verbose=2, return_train_score=True, n_jobs=-1)\n",
    "classifier_1.fit(X_train, y_train)"
   ]
  },
  {
   "cell_type": "code",
   "execution_count": 44,
   "metadata": {},
   "outputs": [
    {
     "name": "stdout",
     "output_type": "stream",
     "text": [
      "{'max_depth': 15, 'min_samples_split': 20}\n"
     ]
    }
   ],
   "source": [
    "bestScore = classifier_1.best_score_\n",
    "modal_val = classifier_1.best_params_\n",
    "print(modal_val)"
   ]
  },
  {
   "cell_type": "code",
   "execution_count": 45,
   "metadata": {},
   "outputs": [
    {
     "data": {
      "text/html": [
       "<style>#sk-container-id-8 {color: black;background-color: white;}#sk-container-id-8 pre{padding: 0;}#sk-container-id-8 div.sk-toggleable {background-color: white;}#sk-container-id-8 label.sk-toggleable__label {cursor: pointer;display: block;width: 100%;margin-bottom: 0;padding: 0.3em;box-sizing: border-box;text-align: center;}#sk-container-id-8 label.sk-toggleable__label-arrow:before {content: \"▸\";float: left;margin-right: 0.25em;color: #696969;}#sk-container-id-8 label.sk-toggleable__label-arrow:hover:before {color: black;}#sk-container-id-8 div.sk-estimator:hover label.sk-toggleable__label-arrow:before {color: black;}#sk-container-id-8 div.sk-toggleable__content {max-height: 0;max-width: 0;overflow: hidden;text-align: left;background-color: #f0f8ff;}#sk-container-id-8 div.sk-toggleable__content pre {margin: 0.2em;color: black;border-radius: 0.25em;background-color: #f0f8ff;}#sk-container-id-8 input.sk-toggleable__control:checked~div.sk-toggleable__content {max-height: 200px;max-width: 100%;overflow: auto;}#sk-container-id-8 input.sk-toggleable__control:checked~label.sk-toggleable__label-arrow:before {content: \"▾\";}#sk-container-id-8 div.sk-estimator input.sk-toggleable__control:checked~label.sk-toggleable__label {background-color: #d4ebff;}#sk-container-id-8 div.sk-label input.sk-toggleable__control:checked~label.sk-toggleable__label {background-color: #d4ebff;}#sk-container-id-8 input.sk-hidden--visually {border: 0;clip: rect(1px 1px 1px 1px);clip: rect(1px, 1px, 1px, 1px);height: 1px;margin: -1px;overflow: hidden;padding: 0;position: absolute;width: 1px;}#sk-container-id-8 div.sk-estimator {font-family: monospace;background-color: #f0f8ff;border: 1px dotted black;border-radius: 0.25em;box-sizing: border-box;margin-bottom: 0.5em;}#sk-container-id-8 div.sk-estimator:hover {background-color: #d4ebff;}#sk-container-id-8 div.sk-parallel-item::after {content: \"\";width: 100%;border-bottom: 1px solid gray;flex-grow: 1;}#sk-container-id-8 div.sk-label:hover label.sk-toggleable__label {background-color: #d4ebff;}#sk-container-id-8 div.sk-serial::before {content: \"\";position: absolute;border-left: 1px solid gray;box-sizing: border-box;top: 0;bottom: 0;left: 50%;z-index: 0;}#sk-container-id-8 div.sk-serial {display: flex;flex-direction: column;align-items: center;background-color: white;padding-right: 0.2em;padding-left: 0.2em;position: relative;}#sk-container-id-8 div.sk-item {position: relative;z-index: 1;}#sk-container-id-8 div.sk-parallel {display: flex;align-items: stretch;justify-content: center;background-color: white;position: relative;}#sk-container-id-8 div.sk-item::before, #sk-container-id-8 div.sk-parallel-item::before {content: \"\";position: absolute;border-left: 1px solid gray;box-sizing: border-box;top: 0;bottom: 0;left: 50%;z-index: -1;}#sk-container-id-8 div.sk-parallel-item {display: flex;flex-direction: column;z-index: 1;position: relative;background-color: white;}#sk-container-id-8 div.sk-parallel-item:first-child::after {align-self: flex-end;width: 50%;}#sk-container-id-8 div.sk-parallel-item:last-child::after {align-self: flex-start;width: 50%;}#sk-container-id-8 div.sk-parallel-item:only-child::after {width: 0;}#sk-container-id-8 div.sk-dashed-wrapped {border: 1px dashed gray;margin: 0 0.4em 0.5em 0.4em;box-sizing: border-box;padding-bottom: 0.4em;background-color: white;}#sk-container-id-8 div.sk-label label {font-family: monospace;font-weight: bold;display: inline-block;line-height: 1.2em;}#sk-container-id-8 div.sk-label-container {text-align: center;}#sk-container-id-8 div.sk-container {/* jupyter's `normalize.less` sets `[hidden] { display: none; }` but bootstrap.min.css set `[hidden] { display: none !important; }` so we also need the `!important` here to be able to override the default hidden behavior on the sphinx rendered scikit-learn.org. See: https://github.com/scikit-learn/scikit-learn/issues/21755 */display: inline-block !important;position: relative;}#sk-container-id-8 div.sk-text-repr-fallback {display: none;}</style><div id=\"sk-container-id-8\" class=\"sk-top-container\"><div class=\"sk-text-repr-fallback\"><pre>RandomForestClassifier(max_depth=15, min_samples_split=25)</pre><b>In a Jupyter environment, please rerun this cell to show the HTML representation or trust the notebook. <br />On GitHub, the HTML representation is unable to render, please try loading this page with nbviewer.org.</b></div><div class=\"sk-container\" hidden><div class=\"sk-item\"><div class=\"sk-estimator sk-toggleable\"><input class=\"sk-toggleable__control sk-hidden--visually\" id=\"sk-estimator-id-22\" type=\"checkbox\" checked><label for=\"sk-estimator-id-22\" class=\"sk-toggleable__label sk-toggleable__label-arrow\">RandomForestClassifier</label><div class=\"sk-toggleable__content\"><pre>RandomForestClassifier(max_depth=15, min_samples_split=25)</pre></div></div></div></div></div>"
      ],
      "text/plain": [
       "RandomForestClassifier(max_depth=15, min_samples_split=25)"
      ]
     },
     "execution_count": 45,
     "metadata": {},
     "output_type": "execute_result"
    }
   ],
   "source": [
    "classifierAccurate_rf = RandomForestClassifier(max_depth=15, min_samples_split=25)\n",
    "classifierAccurate_rf.fit(X_train, y_train)"
   ]
  },
  {
   "cell_type": "code",
   "execution_count": 46,
   "metadata": {},
   "outputs": [
    {
     "name": "stderr",
     "output_type": "stream",
     "text": [
      "/opt/anaconda3/lib/python3.9/site-packages/sklearn/metrics/_classification.py:1327: UndefinedMetricWarning: Precision is ill-defined and being set to 0.0 in labels with no predicted samples. Use `zero_division` parameter to control this behavior.\n",
      "  _warn_prf(average, modifier, msg_start, len(result))\n"
     ]
    },
    {
     "data": {
      "text/plain": [
       "0.25969179342476945"
      ]
     },
     "execution_count": 46,
     "metadata": {},
     "output_type": "execute_result"
    }
   ],
   "source": [
    "input = y_train   # max_depth=15, min_samples_split=20\n",
    "modal_val = classifierAccurate_rf.predict(X_train.tocsr())\n",
    "modal_val_1 = precision_score(input, modal_val, average='macro')\n",
    "modal_val_1"
   ]
  },
  {
   "cell_type": "code",
   "execution_count": 47,
   "metadata": {},
   "outputs": [
    {
     "name": "stderr",
     "output_type": "stream",
     "text": [
      "/opt/anaconda3/lib/python3.9/site-packages/sklearn/metrics/_classification.py:1327: UndefinedMetricWarning: Precision is ill-defined and being set to 0.0 in labels with no predicted samples. Use `zero_division` parameter to control this behavior.\n",
      "  _warn_prf(average, modifier, msg_start, len(result))\n"
     ]
    },
    {
     "data": {
      "text/plain": [
       "0.1567223389005567"
      ]
     },
     "execution_count": 47,
     "metadata": {},
     "output_type": "execute_result"
    }
   ],
   "source": [
    "input = y_test   # max_depth=15, min_samples_split=20\n",
    "modal_val = classifierAccurate_rf.predict(X_test.tocsr())\n",
    "modal_val_1 = precision_score(input, modal_val, average='macro')\n",
    "modal_val_1"
   ]
  },
  {
   "cell_type": "code",
   "execution_count": 48,
   "metadata": {},
   "outputs": [
    {
     "name": "stderr",
     "output_type": "stream",
     "text": [
      "/opt/anaconda3/lib/python3.9/site-packages/sklearn/utils/deprecation.py:87: FutureWarning: Function plot_confusion_matrix is deprecated; Function `plot_confusion_matrix` is deprecated in 1.0 and will be removed in 1.2. Use one of the class methods: ConfusionMatrixDisplay.from_predictions or ConfusionMatrixDisplay.from_estimator.\n",
      "  warnings.warn(msg, category=FutureWarning)\n",
      "/opt/anaconda3/lib/python3.9/site-packages/sklearn/utils/deprecation.py:87: FutureWarning: Function plot_confusion_matrix is deprecated; Function `plot_confusion_matrix` is deprecated in 1.0 and will be removed in 1.2. Use one of the class methods: ConfusionMatrixDisplay.from_predictions or ConfusionMatrixDisplay.from_estimator.\n",
      "  warnings.warn(msg, category=FutureWarning)\n"
     ]
    },
    {
     "data": {
      "image/png": "[encoded data removed]",
      "text/plain": [
       "<Figure size 2500x1000 with 4 Axes>"
      ]
     },
     "metadata": {},
     "output_type": "display_data"
    }
   ],
   "source": [
    "### confusion matrix\n",
    "figure, axes = plt.subplots(1, 2, figsize=(25,10))\n",
    "plot_confusion_matrix(classifierAccurate_rf, X_train, y_train, values_format='.3g', ax=axes[0], normalize='pred', cmap='gist_gray')  \n",
    "plot_confusion_matrix(classifierAccurate_rf, X_test, y_test, values_format='.3g', ax=axes[1], normalize='pred', cmap='gist_gray') \n",
    "axes[0].set_title('Train prediction')\n",
    "axes[1].set_title('Test prediction') \n",
    "plt.show()"
   ]
  },
  {
   "cell_type": "code",
   "execution_count": 49,
   "metadata": {},
   "outputs": [
    {
     "name": "stdout",
     "output_type": "stream",
     "text": [
      "Fitting 2 folds for each of 9 candidates, totalling 18 fits\n",
      "[CV] END .................max_depth=15, min_samples_split=25; total time=  15.9s\n",
      "[CV] END .................max_depth=15, min_samples_split=20; total time=  16.3s\n",
      "[CV] END .................max_depth=15, min_samples_split=25; total time=  16.2s\n",
      "[CV] END .................max_depth=15, min_samples_split=23; total time=  16.8s\n",
      "[CV] END .................max_depth=15, min_samples_split=23; total time=  15.3s\n",
      "[CV] END .................max_depth=15, min_samples_split=20; total time=  15.6s\n",
      "[CV] END .................max_depth=20, min_samples_split=20; total time=  22.9s\n",
      "[CV] END .................max_depth=20, min_samples_split=20; total time=  23.7s\n",
      "[CV] END .................max_depth=20, min_samples_split=25; total time=  22.4s\n",
      "[CV] END .................max_depth=20, min_samples_split=23; total time=  22.9s\n",
      "[CV] END .................max_depth=20, min_samples_split=23; total time=  23.1s\n",
      "[CV] END .................max_depth=20, min_samples_split=25; total time=  22.6s\n",
      "[CV] END .................max_depth=30, min_samples_split=20; total time=  32.5s\n",
      "[CV] END .................max_depth=30, min_samples_split=20; total time=  33.2s\n",
      "[CV] END .................max_depth=30, min_samples_split=23; total time=  29.4s\n",
      "[CV] END .................max_depth=30, min_samples_split=23; total time=  29.7s\n",
      "[CV] END .................max_depth=30, min_samples_split=25; total time=  22.6s\n",
      "[CV] END .................max_depth=30, min_samples_split=25; total time=  23.3s\n"
     ]
    },
    {
     "data": {
      "text/html": [
       "<style>#sk-container-id-9 {color: black;background-color: white;}#sk-container-id-9 pre{padding: 0;}#sk-container-id-9 div.sk-toggleable {background-color: white;}#sk-container-id-9 label.sk-toggleable__label {cursor: pointer;display: block;width: 100%;margin-bottom: 0;padding: 0.3em;box-sizing: border-box;text-align: center;}#sk-container-id-9 label.sk-toggleable__label-arrow:before {content: \"▸\";float: left;margin-right: 0.25em;color: #696969;}#sk-container-id-9 label.sk-toggleable__label-arrow:hover:before {color: black;}#sk-container-id-9 div.sk-estimator:hover label.sk-toggleable__label-arrow:before {color: black;}#sk-container-id-9 div.sk-toggleable__content {max-height: 0;max-width: 0;overflow: hidden;text-align: left;background-color: #f0f8ff;}#sk-container-id-9 div.sk-toggleable__content pre {margin: 0.2em;color: black;border-radius: 0.25em;background-color: #f0f8ff;}#sk-container-id-9 input.sk-toggleable__control:checked~div.sk-toggleable__content {max-height: 200px;max-width: 100%;overflow: auto;}#sk-container-id-9 input.sk-toggleable__control:checked~label.sk-toggleable__label-arrow:before {content: \"▾\";}#sk-container-id-9 div.sk-estimator input.sk-toggleable__control:checked~label.sk-toggleable__label {background-color: #d4ebff;}#sk-container-id-9 div.sk-label input.sk-toggleable__control:checked~label.sk-toggleable__label {background-color: #d4ebff;}#sk-container-id-9 input.sk-hidden--visually {border: 0;clip: rect(1px 1px 1px 1px);clip: rect(1px, 1px, 1px, 1px);height: 1px;margin: -1px;overflow: hidden;padding: 0;position: absolute;width: 1px;}#sk-container-id-9 div.sk-estimator {font-family: monospace;background-color: #f0f8ff;border: 1px dotted black;border-radius: 0.25em;box-sizing: border-box;margin-bottom: 0.5em;}#sk-container-id-9 div.sk-estimator:hover {background-color: #d4ebff;}#sk-container-id-9 div.sk-parallel-item::after {content: \"\";width: 100%;border-bottom: 1px solid gray;flex-grow: 1;}#sk-container-id-9 div.sk-label:hover label.sk-toggleable__label {background-color: #d4ebff;}#sk-container-id-9 div.sk-serial::before {content: \"\";position: absolute;border-left: 1px solid gray;box-sizing: border-box;top: 0;bottom: 0;left: 50%;z-index: 0;}#sk-container-id-9 div.sk-serial {display: flex;flex-direction: column;align-items: center;background-color: white;padding-right: 0.2em;padding-left: 0.2em;position: relative;}#sk-container-id-9 div.sk-item {position: relative;z-index: 1;}#sk-container-id-9 div.sk-parallel {display: flex;align-items: stretch;justify-content: center;background-color: white;position: relative;}#sk-container-id-9 div.sk-item::before, #sk-container-id-9 div.sk-parallel-item::before {content: \"\";position: absolute;border-left: 1px solid gray;box-sizing: border-box;top: 0;bottom: 0;left: 50%;z-index: -1;}#sk-container-id-9 div.sk-parallel-item {display: flex;flex-direction: column;z-index: 1;position: relative;background-color: white;}#sk-container-id-9 div.sk-parallel-item:first-child::after {align-self: flex-end;width: 50%;}#sk-container-id-9 div.sk-parallel-item:last-child::after {align-self: flex-start;width: 50%;}#sk-container-id-9 div.sk-parallel-item:only-child::after {width: 0;}#sk-container-id-9 div.sk-dashed-wrapped {border: 1px dashed gray;margin: 0 0.4em 0.5em 0.4em;box-sizing: border-box;padding-bottom: 0.4em;background-color: white;}#sk-container-id-9 div.sk-label label {font-family: monospace;font-weight: bold;display: inline-block;line-height: 1.2em;}#sk-container-id-9 div.sk-label-container {text-align: center;}#sk-container-id-9 div.sk-container {/* jupyter's `normalize.less` sets `[hidden] { display: none; }` but bootstrap.min.css set `[hidden] { display: none !important; }` so we also need the `!important` here to be able to override the default hidden behavior on the sphinx rendered scikit-learn.org. See: https://github.com/scikit-learn/scikit-learn/issues/21755 */display: inline-block !important;position: relative;}#sk-container-id-9 div.sk-text-repr-fallback {display: none;}</style><div id=\"sk-container-id-9\" class=\"sk-top-container\"><div class=\"sk-text-repr-fallback\"><pre>GridSearchCV(cv=2, estimator=DecisionTreeRegressor(), n_jobs=-1,\n",
       "             param_grid={&#x27;max_depth&#x27;: [15, 20, 30],\n",
       "                         &#x27;min_samples_split&#x27;: [20, 23, 25]},\n",
       "             return_train_score=True, scoring=&#x27;neg_root_mean_squared_error&#x27;,\n",
       "             verbose=2)</pre><b>In a Jupyter environment, please rerun this cell to show the HTML representation or trust the notebook. <br />On GitHub, the HTML representation is unable to render, please try loading this page with nbviewer.org.</b></div><div class=\"sk-container\" hidden><div class=\"sk-item sk-dashed-wrapped\"><div class=\"sk-label-container\"><div class=\"sk-label sk-toggleable\"><input class=\"sk-toggleable__control sk-hidden--visually\" id=\"sk-estimator-id-23\" type=\"checkbox\" ><label for=\"sk-estimator-id-23\" class=\"sk-toggleable__label sk-toggleable__label-arrow\">GridSearchCV</label><div class=\"sk-toggleable__content\"><pre>GridSearchCV(cv=2, estimator=DecisionTreeRegressor(), n_jobs=-1,\n",
       "             param_grid={&#x27;max_depth&#x27;: [15, 20, 30],\n",
       "                         &#x27;min_samples_split&#x27;: [20, 23, 25]},\n",
       "             return_train_score=True, scoring=&#x27;neg_root_mean_squared_error&#x27;,\n",
       "             verbose=2)</pre></div></div></div><div class=\"sk-parallel\"><div class=\"sk-parallel-item\"><div class=\"sk-item\"><div class=\"sk-label-container\"><div class=\"sk-label sk-toggleable\"><input class=\"sk-toggleable__control sk-hidden--visually\" id=\"sk-estimator-id-24\" type=\"checkbox\" ><label for=\"sk-estimator-id-24\" class=\"sk-toggleable__label sk-toggleable__label-arrow\">estimator: DecisionTreeRegressor</label><div class=\"sk-toggleable__content\"><pre>DecisionTreeRegressor()</pre></div></div></div><div class=\"sk-serial\"><div class=\"sk-item\"><div class=\"sk-estimator sk-toggleable\"><input class=\"sk-toggleable__control sk-hidden--visually\" id=\"sk-estimator-id-25\" type=\"checkbox\" ><label for=\"sk-estimator-id-25\" class=\"sk-toggleable__label sk-toggleable__label-arrow\">DecisionTreeRegressor</label><div class=\"sk-toggleable__content\"><pre>DecisionTreeRegressor()</pre></div></div></div></div></div></div></div></div></div></div>"
      ],
      "text/plain": [
       "GridSearchCV(cv=2, estimator=DecisionTreeRegressor(), n_jobs=-1,\n",
       "             param_grid={'max_depth': [15, 20, 30],\n",
       "                         'min_samples_split': [20, 23, 25]},\n",
       "             return_train_score=True, scoring='neg_root_mean_squared_error',\n",
       "             verbose=2)"
      ]
     },
     "execution_count": 49,
     "metadata": {},
     "output_type": "execute_result"
    }
   ],
   "source": [
    "###Regression Algorithm\n",
    "Regression = DecisionTreeRegressor()\n",
    "modal_val = {'max_depth':[15, 20, 30],'min_samples_split':[20, 23, 25]}\n",
    "Regression_1 = GridSearchCV(Regression, modal_val, cv= 2, scoring='neg_root_mean_squared_error', verbose=2, return_train_score=True, n_jobs=-1)\n",
    "Regression_1.fit(X_train, y_train)"
   ]
  },
  {
   "cell_type": "code",
   "execution_count": 52,
   "metadata": {},
   "outputs": [
    {
     "name": "stdout",
     "output_type": "stream",
     "text": [
      "{'max_depth': 15, 'min_samples_split': 23}\n"
     ]
    }
   ],
   "source": [
    "performanceMatrix = Regression_1.best_params_\n",
    "print(performanceMatrix)"
   ]
  },
  {
   "cell_type": "code",
   "execution_count": 53,
   "metadata": {},
   "outputs": [
    {
     "data": {
      "text/html": [
       "<style>#sk-container-id-10 {color: black;background-color: white;}#sk-container-id-10 pre{padding: 0;}#sk-container-id-10 div.sk-toggleable {background-color: white;}#sk-container-id-10 label.sk-toggleable__label {cursor: pointer;display: block;width: 100%;margin-bottom: 0;padding: 0.3em;box-sizing: border-box;text-align: center;}#sk-container-id-10 label.sk-toggleable__label-arrow:before {content: \"▸\";float: left;margin-right: 0.25em;color: #696969;}#sk-container-id-10 label.sk-toggleable__label-arrow:hover:before {color: black;}#sk-container-id-10 div.sk-estimator:hover label.sk-toggleable__label-arrow:before {color: black;}#sk-container-id-10 div.sk-toggleable__content {max-height: 0;max-width: 0;overflow: hidden;text-align: left;background-color: #f0f8ff;}#sk-container-id-10 div.sk-toggleable__content pre {margin: 0.2em;color: black;border-radius: 0.25em;background-color: #f0f8ff;}#sk-container-id-10 input.sk-toggleable__control:checked~div.sk-toggleable__content {max-height: 200px;max-width: 100%;overflow: auto;}#sk-container-id-10 input.sk-toggleable__control:checked~label.sk-toggleable__label-arrow:before {content: \"▾\";}#sk-container-id-10 div.sk-estimator input.sk-toggleable__control:checked~label.sk-toggleable__label {background-color: #d4ebff;}#sk-container-id-10 div.sk-label input.sk-toggleable__control:checked~label.sk-toggleable__label {background-color: #d4ebff;}#sk-container-id-10 input.sk-hidden--visually {border: 0;clip: rect(1px 1px 1px 1px);clip: rect(1px, 1px, 1px, 1px);height: 1px;margin: -1px;overflow: hidden;padding: 0;position: absolute;width: 1px;}#sk-container-id-10 div.sk-estimator {font-family: monospace;background-color: #f0f8ff;border: 1px dotted black;border-radius: 0.25em;box-sizing: border-box;margin-bottom: 0.5em;}#sk-container-id-10 div.sk-estimator:hover {background-color: #d4ebff;}#sk-container-id-10 div.sk-parallel-item::after {content: \"\";width: 100%;border-bottom: 1px solid gray;flex-grow: 1;}#sk-container-id-10 div.sk-label:hover label.sk-toggleable__label {background-color: #d4ebff;}#sk-container-id-10 div.sk-serial::before {content: \"\";position: absolute;border-left: 1px solid gray;box-sizing: border-box;top: 0;bottom: 0;left: 50%;z-index: 0;}#sk-container-id-10 div.sk-serial {display: flex;flex-direction: column;align-items: center;background-color: white;padding-right: 0.2em;padding-left: 0.2em;position: relative;}#sk-container-id-10 div.sk-item {position: relative;z-index: 1;}#sk-container-id-10 div.sk-parallel {display: flex;align-items: stretch;justify-content: center;background-color: white;position: relative;}#sk-container-id-10 div.sk-item::before, #sk-container-id-10 div.sk-parallel-item::before {content: \"\";position: absolute;border-left: 1px solid gray;box-sizing: border-box;top: 0;bottom: 0;left: 50%;z-index: -1;}#sk-container-id-10 div.sk-parallel-item {display: flex;flex-direction: column;z-index: 1;position: relative;background-color: white;}#sk-container-id-10 div.sk-parallel-item:first-child::after {align-self: flex-end;width: 50%;}#sk-container-id-10 div.sk-parallel-item:last-child::after {align-self: flex-start;width: 50%;}#sk-container-id-10 div.sk-parallel-item:only-child::after {width: 0;}#sk-container-id-10 div.sk-dashed-wrapped {border: 1px dashed gray;margin: 0 0.4em 0.5em 0.4em;box-sizing: border-box;padding-bottom: 0.4em;background-color: white;}#sk-container-id-10 div.sk-label label {font-family: monospace;font-weight: bold;display: inline-block;line-height: 1.2em;}#sk-container-id-10 div.sk-label-container {text-align: center;}#sk-container-id-10 div.sk-container {/* jupyter's `normalize.less` sets `[hidden] { display: none; }` but bootstrap.min.css set `[hidden] { display: none !important; }` so we also need the `!important` here to be able to override the default hidden behavior on the sphinx rendered scikit-learn.org. See: https://github.com/scikit-learn/scikit-learn/issues/21755 */display: inline-block !important;position: relative;}#sk-container-id-10 div.sk-text-repr-fallback {display: none;}</style><div id=\"sk-container-id-10\" class=\"sk-top-container\"><div class=\"sk-text-repr-fallback\"><pre>DecisionTreeRegressor(max_depth=15, min_samples_split=25)</pre><b>In a Jupyter environment, please rerun this cell to show the HTML representation or trust the notebook. <br />On GitHub, the HTML representation is unable to render, please try loading this page with nbviewer.org.</b></div><div class=\"sk-container\" hidden><div class=\"sk-item\"><div class=\"sk-estimator sk-toggleable\"><input class=\"sk-toggleable__control sk-hidden--visually\" id=\"sk-estimator-id-26\" type=\"checkbox\" checked><label for=\"sk-estimator-id-26\" class=\"sk-toggleable__label sk-toggleable__label-arrow\">DecisionTreeRegressor</label><div class=\"sk-toggleable__content\"><pre>DecisionTreeRegressor(max_depth=15, min_samples_split=25)</pre></div></div></div></div></div>"
      ],
      "text/plain": [
       "DecisionTreeRegressor(max_depth=15, min_samples_split=25)"
      ]
     },
     "execution_count": 53,
     "metadata": {},
     "output_type": "execute_result"
    }
   ],
   "source": [
    "PerformanceRegression = DecisionTreeRegressor(max_depth=15, min_samples_split=25)\n",
    "PerformanceRegression.fit(X_train, y_train)"
   ]
  },
  {
   "cell_type": "code",
   "execution_count": 54,
   "metadata": {},
   "outputs": [
    {
     "data": {
      "text/plain": [
       "0.9806899912407061"
      ]
     },
     "execution_count": 54,
     "metadata": {},
     "output_type": "execute_result"
    }
   ],
   "source": [
    "input = y_train   # max_depth=15, min_samples_split=25\n",
    "modal_val = PerformanceRegression.predict(X_train.tocsr())\n",
    "modal_val_1 = mean_squared_error(input, modal_val)\n",
    "modal_val_1"
   ]
  },
  {
   "cell_type": "code",
   "execution_count": 55,
   "metadata": {},
   "outputs": [
    {
     "data": {
      "text/plain": [
       "1.0607488598230854"
      ]
     },
     "execution_count": 55,
     "metadata": {},
     "output_type": "execute_result"
    }
   ],
   "source": [
    "input = y_test   # max_depth=15, min_samples_split=25\n",
    "modal_val = PerformanceRegression.predict(X_test.tocsr())\n",
    "modal_val_1 = mean_squared_error(input, modal_val)\n",
    "modal_val_1"
   ]
  },
  {
   "attachments": {},
   "cell_type": "markdown",
   "metadata": {},
   "source": [
    "## Collaborative Filtering\n",
    "### User-User Similarity"
   ]
  },
  {
   "cell_type": "code",
   "execution_count": 18,
   "metadata": {},
   "outputs": [
    {
     "data": {
      "text/html": [
       "<div>\n",
       "<style scoped>\n",
       "    .dataframe tbody tr th:only-of-type {\n",
       "        vertical-align: middle;\n",
       "    }\n",
       "\n",
       "    .dataframe tbody tr th {\n",
       "        vertical-align: top;\n",
       "    }\n",
       "\n",
       "    .dataframe thead th {\n",
       "        text-align: right;\n",
       "    }\n",
       "</style>\n",
       "<table border=\"1\" class=\"dataframe\">\n",
       "  <thead>\n",
       "    <tr style=\"text-align: right;\">\n",
       "      <th></th>\n",
       "      <th>item_id</th>\n",
       "      <th>url</th>\n",
       "      <th>title</th>\n",
       "      <th>authors</th>\n",
       "      <th>lang</th>\n",
       "      <th>img</th>\n",
       "      <th>year_x</th>\n",
       "      <th>description</th>\n",
       "      <th>user_id</th>\n",
       "      <th>rating</th>\n",
       "      <th>year_y</th>\n",
       "      <th>count_books</th>\n",
       "      <th>avg_book_rate</th>\n",
       "    </tr>\n",
       "  </thead>\n",
       "  <tbody>\n",
       "    <tr>\n",
       "      <th>250809</th>\n",
       "      <td>14245059</td>\n",
       "      <td>https://www.goodreads.com/book/show/9361589-th...</td>\n",
       "      <td>the night circus</td>\n",
       "      <td>Erin Morgenstern</td>\n",
       "      <td>eng</td>\n",
       "      <td>https://images.gr-assets.com/books/1387124618m...</td>\n",
       "      <td>2011</td>\n",
       "      <td>The circus arrives without warning. No announc...</td>\n",
       "      <td>16865</td>\n",
       "      <td>3</td>\n",
       "      <td>2011</td>\n",
       "      <td>9778</td>\n",
       "      <td>4.096748</td>\n",
       "    </tr>\n",
       "    <tr>\n",
       "      <th>499152</th>\n",
       "      <td>3060926</td>\n",
       "      <td>https://www.goodreads.com/book/show/1885.Pride...</td>\n",
       "      <td>pride and prejudice</td>\n",
       "      <td>Jane Austen</td>\n",
       "      <td>eng</td>\n",
       "      <td>https://images.gr-assets.com/books/1320399351m...</td>\n",
       "      <td>2000</td>\n",
       "      <td>\"It is a truth universally acknowledged, that ...</td>\n",
       "      <td>63602</td>\n",
       "      <td>5</td>\n",
       "      <td>2000</td>\n",
       "      <td>5673</td>\n",
       "      <td>4.359422</td>\n",
       "    </tr>\n",
       "    <tr>\n",
       "      <th>163592</th>\n",
       "      <td>21825181</td>\n",
       "      <td>https://www.goodreads.com/book/show/18007564-t...</td>\n",
       "      <td>the martian</td>\n",
       "      <td>Andy Weir</td>\n",
       "      <td>eng</td>\n",
       "      <td>https://images.gr-assets.com/books/1413706054m...</td>\n",
       "      <td>2014</td>\n",
       "      <td>Six days ago, astronaut Mark Watney became one...</td>\n",
       "      <td>17816</td>\n",
       "      <td>5</td>\n",
       "      <td>2014</td>\n",
       "      <td>11180</td>\n",
       "      <td>4.326118</td>\n",
       "    </tr>\n",
       "    <tr>\n",
       "      <th>37451</th>\n",
       "      <td>2792775</td>\n",
       "      <td>https://www.goodreads.com/book/show/2767052-th...</td>\n",
       "      <td>the hunger games the hunger games 1</td>\n",
       "      <td>Suzanne Collins</td>\n",
       "      <td>eng</td>\n",
       "      <td>https://images.gr-assets.com/books/1447303603m...</td>\n",
       "      <td>2008</td>\n",
       "      <td>Winning will make you famous.\\nLosing means ce...</td>\n",
       "      <td>175439</td>\n",
       "      <td>5</td>\n",
       "      <td>2008</td>\n",
       "      <td>19818</td>\n",
       "      <td>4.414875</td>\n",
       "    </tr>\n",
       "    <tr>\n",
       "      <th>347922</th>\n",
       "      <td>15413183</td>\n",
       "      <td>https://www.goodreads.com/book/show/10507293-t...</td>\n",
       "      <td>the selection the selection 1</td>\n",
       "      <td>Kiera Cass</td>\n",
       "      <td>en-US</td>\n",
       "      <td>https://images.gr-assets.com/books/1322103400m...</td>\n",
       "      <td>2012</td>\n",
       "      <td>For thirty-five girls, the Selection is the ch...</td>\n",
       "      <td>36818</td>\n",
       "      <td>3</td>\n",
       "      <td>2012</td>\n",
       "      <td>7294</td>\n",
       "      <td>3.874829</td>\n",
       "    </tr>\n",
       "  </tbody>\n",
       "</table>\n",
       "</div>"
      ],
      "text/plain": [
       "         item_id                                                url  \\\n",
       "250809  14245059  https://www.goodreads.com/book/show/9361589-th...   \n",
       "499152   3060926  https://www.goodreads.com/book/show/1885.Pride...   \n",
       "163592  21825181  https://www.goodreads.com/book/show/18007564-t...   \n",
       "37451    2792775  https://www.goodreads.com/book/show/2767052-th...   \n",
       "347922  15413183  https://www.goodreads.com/book/show/10507293-t...   \n",
       "\n",
       "                                      title           authors   lang  \\\n",
       "250809                     the night circus  Erin Morgenstern    eng   \n",
       "499152                  pride and prejudice       Jane Austen    eng   \n",
       "163592                          the martian         Andy Weir    eng   \n",
       "37451   the hunger games the hunger games 1   Suzanne Collins    eng   \n",
       "347922        the selection the selection 1        Kiera Cass  en-US   \n",
       "\n",
       "                                                      img  year_x  \\\n",
       "250809  https://images.gr-assets.com/books/1387124618m...    2011   \n",
       "499152  https://images.gr-assets.com/books/1320399351m...    2000   \n",
       "163592  https://images.gr-assets.com/books/1413706054m...    2014   \n",
       "37451   https://images.gr-assets.com/books/1447303603m...    2008   \n",
       "347922  https://images.gr-assets.com/books/1322103400m...    2012   \n",
       "\n",
       "                                              description  user_id  rating  \\\n",
       "250809  The circus arrives without warning. No announc...    16865       3   \n",
       "499152  \"It is a truth universally acknowledged, that ...    63602       5   \n",
       "163592  Six days ago, astronaut Mark Watney became one...    17816       5   \n",
       "37451   Winning will make you famous.\\nLosing means ce...   175439       5   \n",
       "347922  For thirty-five girls, the Selection is the ch...    36818       3   \n",
       "\n",
       "        year_y  count_books  avg_book_rate  \n",
       "250809    2011         9778       4.096748  \n",
       "499152    2000         5673       4.359422  \n",
       "163592    2014        11180       4.326118  \n",
       "37451     2008        19818       4.414875  \n",
       "347922    2012         7294       3.874829  "
      ]
     },
     "execution_count": 18,
     "metadata": {},
     "output_type": "execute_result"
    }
   ],
   "source": [
    "user_id = '2351'\n",
    "books_liked_by_user = set(df_exhortation[df_exhortation['user_id']== user_id]['item_id'])\n",
    "count_other_similar_users = df_exhortation[df_exhortation['item_id'].isin(books_liked_by_user)]['user_id'].value_counts()\n",
    "df_similar_user = count_other_similar_users.to_frame().reset_index()\n",
    "df_similar_user.columns = ['user_id', 'matching_book_count']\n",
    "top_onepercent_similar_users = df_similar_user[df_similar_user['matching_book_count']>=np.percentile(df_similar_user['matching_book_count'], 99)]\n",
    "top_users = set(top_onepercent_similar_users['user_id'])\n",
    "df_similar_user = df_exhortation[(df_exhortation['user_id'].isin(top_users))][['user_id_mapped', 'item_id_mapped', 'rating', 'user_id', 'item_id', 'count_books', 'img', 'url', 'avg_book_rate']]\n",
    "ratings_mat_coo = coo_matrix((df_similar_user[\"rating\"], (df_similar_user[\"user_id_mapped\"], df_similar_user[\"item_id_mapped\"])))\n",
    "ratings_mat = ratings_mat_coo.tocsr()\n",
    "my_index = list(labelencoder3.transform([user_id]))[0]\n",
    "similarity = cosine_similarity(ratings_mat[my_index,:], ratings_mat).flatten()\n",
    "similar_users_index = np.argsort(similarity)[-1:-51:-1]\n",
    "df_similar_users_refined = df_similar_user[(df_similar_user[\"user_id_mapped\"].isin(similar_users_index)) & (~df_similar_user['item_id'].isin(books_liked_by_user))].copy()\n",
    "book_title_liked_by_user = set(df_exhortation[df_exhortation['item_id'].isin(books_liked_by_user)].sort_values(by='rating', ascending=False))\n",
    "same_books = df_similar_users_refined['item_id'].value_counts()\n",
    "same_books = same_books.to_frame().reset_index()\n",
    "same_books.columns = [\"item_id\", \"book_count\"]\n",
    "same_books_item_id = list(same_books['item_id'])\n",
    "same_books_new = [df_exhortation['item_id'].isin(same_books_item_id)]\n",
    "same_books_new = same_books_new.merge(same_books, on='item_id', how='inner')\n",
    "same_books_new['score'] = same_books_new['count_books'] * (same_books_new['book_count']/same_books_new['count_books'])\n",
    "same_books_new.head(5)"
   ]
  },
  {
   "attachments": {},
   "cell_type": "markdown",
   "metadata": {},
   "source": [
    "### Item-Item Similarity"
   ]
  },
  {
   "cell_type": "code",
   "execution_count": 19,
   "metadata": {},
   "outputs": [
    {
     "data": {
      "text/html": [
       "<div>\n",
       "<style scoped>\n",
       "    .dataframe tbody tr th:only-of-type {\n",
       "        vertical-align: middle;\n",
       "    }\n",
       "\n",
       "    .dataframe tbody tr th {\n",
       "        vertical-align: top;\n",
       "    }\n",
       "\n",
       "    .dataframe thead th {\n",
       "        text-align: right;\n",
       "    }\n",
       "</style>\n",
       "<table border=\"1\" class=\"dataframe\">\n",
       "  <thead>\n",
       "    <tr style=\"text-align: right;\">\n",
       "      <th></th>\n",
       "      <th>item_id</th>\n",
       "      <th>url</th>\n",
       "      <th>title</th>\n",
       "      <th>authors</th>\n",
       "      <th>lang</th>\n",
       "      <th>img</th>\n",
       "      <th>year_x</th>\n",
       "      <th>description</th>\n",
       "      <th>user_id</th>\n",
       "      <th>rating</th>\n",
       "      <th>year_y</th>\n",
       "      <th>count_books</th>\n",
       "      <th>avg_book_rate</th>\n",
       "    </tr>\n",
       "  </thead>\n",
       "  <tbody>\n",
       "    <tr>\n",
       "      <th>345384</th>\n",
       "      <td>15413183</td>\n",
       "      <td>https://www.goodreads.com/book/show/10507293-t...</td>\n",
       "      <td>the selection the selection 1</td>\n",
       "      <td>Kiera Cass</td>\n",
       "      <td>en-US</td>\n",
       "      <td>https://images.gr-assets.com/books/1322103400m...</td>\n",
       "      <td>2012</td>\n",
       "      <td>For thirty-five girls, the Selection is the ch...</td>\n",
       "      <td>1744</td>\n",
       "      <td>3</td>\n",
       "      <td>2012</td>\n",
       "      <td>7294</td>\n",
       "      <td>3.874829</td>\n",
       "    </tr>\n",
       "    <tr>\n",
       "      <th>234692</th>\n",
       "      <td>2267189</td>\n",
       "      <td>https://www.goodreads.com/book/show/256683.Cit...</td>\n",
       "      <td>city of bones the mortal instruments 1</td>\n",
       "      <td>Cassandra Clare</td>\n",
       "      <td>eng</td>\n",
       "      <td>https://images.gr-assets.com/books/1432730315m...</td>\n",
       "      <td>2007</td>\n",
       "      <td>When fifteen-year-old Clary Fray heads out to ...</td>\n",
       "      <td>25244</td>\n",
       "      <td>1</td>\n",
       "      <td>2007</td>\n",
       "      <td>9613</td>\n",
       "      <td>3.820764</td>\n",
       "    </tr>\n",
       "    <tr>\n",
       "      <th>185750</th>\n",
       "      <td>17763198</td>\n",
       "      <td>https://www.goodreads.com/book/show/15507958-m...</td>\n",
       "      <td>me before you me before you 1</td>\n",
       "      <td>Jojo Moyes</td>\n",
       "      <td>eng</td>\n",
       "      <td>https://images.gr-assets.com/books/1357108762m...</td>\n",
       "      <td>2012</td>\n",
       "      <td>Louisa Clark is an ordinary young woman living...</td>\n",
       "      <td>139326</td>\n",
       "      <td>5</td>\n",
       "      <td>2012</td>\n",
       "      <td>11937</td>\n",
       "      <td>4.361732</td>\n",
       "    </tr>\n",
       "    <tr>\n",
       "      <th>189033</th>\n",
       "      <td>13306276</td>\n",
       "      <td>https://www.goodreads.com/book/show/8442457-go...</td>\n",
       "      <td>gone girl</td>\n",
       "      <td>Gillian Flynn</td>\n",
       "      <td>eng</td>\n",
       "      <td>https://images.gr-assets.com/books/1339602131m...</td>\n",
       "      <td>2012</td>\n",
       "      <td>On a warm summer morning in North Carthage, Mi...</td>\n",
       "      <td>24335</td>\n",
       "      <td>5</td>\n",
       "      <td>2012</td>\n",
       "      <td>17536</td>\n",
       "      <td>3.847115</td>\n",
       "    </tr>\n",
       "    <tr>\n",
       "      <th>153812</th>\n",
       "      <td>15545385</td>\n",
       "      <td>https://www.goodreads.com/book/show/11235712-c...</td>\n",
       "      <td>cinder the lunar chronicles 1</td>\n",
       "      <td>Marissa Meyer</td>\n",
       "      <td>eng</td>\n",
       "      <td>https://images.gr-assets.com/books/1470056948m...</td>\n",
       "      <td>2012</td>\n",
       "      <td>Sixteen-year-old Cinder is considered a techno...</td>\n",
       "      <td>299865</td>\n",
       "      <td>4</td>\n",
       "      <td>2012</td>\n",
       "      <td>10479</td>\n",
       "      <td>4.188663</td>\n",
       "    </tr>\n",
       "  </tbody>\n",
       "</table>\n",
       "</div>"
      ],
      "text/plain": [
       "         item_id                                                url  \\\n",
       "345384  15413183  https://www.goodreads.com/book/show/10507293-t...   \n",
       "234692   2267189  https://www.goodreads.com/book/show/256683.Cit...   \n",
       "185750  17763198  https://www.goodreads.com/book/show/15507958-m...   \n",
       "189033  13306276  https://www.goodreads.com/book/show/8442457-go...   \n",
       "153812  15545385  https://www.goodreads.com/book/show/11235712-c...   \n",
       "\n",
       "                                         title          authors   lang  \\\n",
       "345384           the selection the selection 1       Kiera Cass  en-US   \n",
       "234692  city of bones the mortal instruments 1  Cassandra Clare    eng   \n",
       "185750           me before you me before you 1       Jojo Moyes    eng   \n",
       "189033                               gone girl    Gillian Flynn    eng   \n",
       "153812           cinder the lunar chronicles 1    Marissa Meyer    eng   \n",
       "\n",
       "                                                      img  year_x  \\\n",
       "345384  https://images.gr-assets.com/books/1322103400m...    2012   \n",
       "234692  https://images.gr-assets.com/books/1432730315m...    2007   \n",
       "185750  https://images.gr-assets.com/books/1357108762m...    2012   \n",
       "189033  https://images.gr-assets.com/books/1339602131m...    2012   \n",
       "153812  https://images.gr-assets.com/books/1470056948m...    2012   \n",
       "\n",
       "                                              description  user_id  rating  \\\n",
       "345384  For thirty-five girls, the Selection is the ch...     1744       3   \n",
       "234692  When fifteen-year-old Clary Fray heads out to ...    25244       1   \n",
       "185750  Louisa Clark is an ordinary young woman living...   139326       5   \n",
       "189033  On a warm summer morning in North Carthage, Mi...    24335       5   \n",
       "153812  Sixteen-year-old Cinder is considered a techno...   299865       4   \n",
       "\n",
       "        year_y  count_books  avg_book_rate  \n",
       "345384    2012         7294       3.874829  \n",
       "234692    2007         9613       3.820764  \n",
       "185750    2012        11937       4.361732  \n",
       "189033    2012        17536       3.847115  \n",
       "153812    2012        10479       4.188663  "
      ]
     },
     "execution_count": 19,
     "metadata": {},
     "output_type": "execute_result"
    }
   ],
   "source": [
    "item_id = 16827462\n",
    "users_who_liked_book = set(df_exhortation[df_exhortation['item_id']== item_id]['user_id'])\n",
    "books_id_remaining = df_exhortation[(df_exhortation['user_id'].isin(list(users_who_liked_book)))]\n",
    "ratings_mat_coo = coo_matrix((books_id_remaining[\"rating\"], (books_id_remaining[\"item_id_mapped\"], books_id_remaining[\"user_id_mapped\"])))\n",
    "ratings_mat = ratings_mat_coo.tocsr()\n",
    "my_index = list(labelencoder1.transform([item_id]))[0]\n",
    "similarity = cosine_similarity(ratings_mat[my_index,:], ratings_mat).flatten()\n",
    "similar_books_index = np.argsort(similarity)[-1:-51:-1]\n",
    "score = list(enumerate(similar_books_index))\n",
    "df_score = pd.DataFrame(score, columns =['score', 'item_id_mapped'])\n",
    "df_similar_books_to_recommend = (df_exhortation[(df_exhortation['item_id_mapped'].isin(list(similar_books_index)))].merge(df_score, on='item_id_mapped'))[['item_id', 'score']]\n",
    "unique_df_similar_books_to_recommend = df_similar_books_to_recommend.drop_duplicates(keep='first')\n",
    "final_books = (df_exhortation[df_exhortation['item_id'].isin(set(unique_df_similar_books_to_recommend['item_id'].values))].merge(unique_df_similar_books_to_recommend, on='item_id')).sort_values(by='score')\n",
    "final_books.head(5)"
   ]
  },
  {
   "cell_type": "code",
   "execution_count": null,
   "metadata": {},
   "outputs": [],
   "source": []
  }
 ],
 "metadata": {
  "kernelspec": {
   "display_name": "Python 3",
   "language": "python",
   "name": "python3"
  },
  "language_info": {
   "codemirror_mode": {
    "name": "ipython",
    "version": 3
   },
   "file_extension": ".py",
   "mimetype": "text/x-python",
   "name": "python",
   "nbconvert_exporter": "python",
   "pygments_lexer": "ipython3",
   "version": "3.9.13 (main, Aug 25 2022, 18:24:45) \n[Clang 12.0.0 ]"
  },
  "vscode": {
   "interpreter": {
    "hash": "40d3a090f54c6569ab1632332b64b2c03c39dcf918b08424e98f38b5ae0af88f"
   }
  }
 },
 "nbformat": 4,
 "nbformat_minor": 2
}
